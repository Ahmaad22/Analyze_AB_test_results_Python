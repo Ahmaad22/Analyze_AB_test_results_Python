{
  "cells": [
    {
      "cell_type": "markdown",
      "metadata": {
        "id": "MuQGV9pX1rG0"
      },
      "source": [
        "# Analyze A/B Test Results \n",
        "\n",
        "This project will assure you have mastered the subjects covered in the statistics lessons. We have organized the current notebook into the following sections: \n",
        "\n",
        "- [Introduction](#intro)\n",
        "- [Part I - Probability](#probability)\n",
        "- [Part II - A/B Test](#ab_test)\n",
        "- [Part III - Regression](#regression)\n",
        "- [Final Check](#finalcheck)\n",
        "- [Submission](#submission)\n",
        "\n",
        "Specific programming tasks are marked with a **ToDo** tag. \n",
        "\n",
        "<a id='intro'></a>\n",
        "## Introduction\n",
        "\n",
        "A/B tests are very commonly performed by data analysts and data scientists. For this project, you will be working to understand the results of an A/B test run by an e-commerce website.  Your goal is to work through this notebook to help the company understand if they should:\n",
        "- Implement the new webpage, \n",
        "- Keep the old webpage, or \n",
        "- Perhaps run the experiment longer to make their decision.\n",
        "\n",
        "Each **ToDo** task below has an associated quiz present in the classroom.  Though the classroom quizzes are **not necessary** to complete the project, they help ensure you are on the right track as you work through the project, and you can feel more confident in your final submission meeting the [rubric](https://review.udacity.com/#!/rubrics/1214/view) specification. \n",
        "\n",
        ">**Tip**: Though it's not a mandate, students can attempt the classroom quizzes to ensure statistical numeric values are calculated correctly in many cases.\n",
        "\n",
        "<a id='probability'></a>\n",
        "## Part I - Probability\n",
        "\n",
        "To get started, let's import our libraries."
      ]
    },
    {
      "cell_type": "code",
      "execution_count": 112,
      "metadata": {
        "id": "lEsUS10L1rG5"
      },
      "outputs": [],
      "source": [
        "import pandas as pd\n",
        "import numpy as np\n",
        "import random\n",
        "import matplotlib.pyplot as plt\n",
        "%matplotlib inline\n",
        "#We are setting the seed to assure you get the same answers on quizzes as we set up\n",
        "random.seed(42)"
      ]
    },
    {
      "cell_type": "markdown",
      "metadata": {
        "id": "SkuMXJXT1rG7"
      },
      "source": [
        "### ToDo 1.1\n",
        "Now, read in the `ab_data.csv` data. Store it in `df`. Below is the description of the data, there are a total of 5 columns:\n",
        "\n",
        "<center>\n",
        "\n",
        "|Data columns|Purpose|Valid values|\n",
        "| ------------- |:-------------| -----:|\n",
        "|user_id|Unique ID|Int64 values|\n",
        "|timestamp|Time stamp when the user visited the webpage|-|\n",
        "|group|In the current A/B experiment, the users are categorized into two broad groups. <br>The `control` group users are expected to be served with `old_page`; and `treatment` group users are matched with the `new_page`. <br>However, **some inaccurate rows** are present in the initial data, such as a `control` group user is matched with a `new_page`. |`['control', 'treatment']`|\n",
        "|landing_page|It denotes whether the user visited the old or new webpage.|`['old_page', 'new_page']`|\n",
        "|converted|It denotes whether the user decided to pay for the company's product. Here, `1` means yes, the user bought the product.|`[0, 1]`|\n",
        "</center>\n",
        "Use your dataframe to answer the questions in Quiz 1 of the classroom.\n",
        "\n",
        "\n",
        ">**Tip**: Please save your work regularly.\n",
        "\n",
        "**a.** Read in the dataset from the `ab_data.csv` file and take a look at the top few rows here:"
      ]
    },
    {
      "cell_type": "code",
      "execution_count": 113,
      "metadata": {
        "colab": {
          "base_uri": "https://localhost:8080/",
          "height": 206
        },
        "id": "lBDWz5H91rG7",
        "outputId": "694f053f-e74d-4578-a041-6fafaf951def"
      },
      "outputs": [
        {
          "output_type": "execute_result",
          "data": {
            "text/plain": [
              "   user_id                   timestamp      group landing_page  converted\n",
              "0   851104  2017-01-21 22:11:48.556739    control     old_page          0\n",
              "1   804228  2017-01-12 08:01:45.159739    control     old_page          0\n",
              "2   661590  2017-01-11 16:55:06.154213  treatment     new_page          0\n",
              "3   853541  2017-01-08 18:28:03.143765  treatment     new_page          0\n",
              "4   864975  2017-01-21 01:52:26.210827    control     old_page          1"
            ],
            "text/html": [
              "\n",
              "  <div id=\"df-3e2f5df3-33cd-4eec-ab46-14cc31bdddca\">\n",
              "    <div class=\"colab-df-container\">\n",
              "      <div>\n",
              "<style scoped>\n",
              "    .dataframe tbody tr th:only-of-type {\n",
              "        vertical-align: middle;\n",
              "    }\n",
              "\n",
              "    .dataframe tbody tr th {\n",
              "        vertical-align: top;\n",
              "    }\n",
              "\n",
              "    .dataframe thead th {\n",
              "        text-align: right;\n",
              "    }\n",
              "</style>\n",
              "<table border=\"1\" class=\"dataframe\">\n",
              "  <thead>\n",
              "    <tr style=\"text-align: right;\">\n",
              "      <th></th>\n",
              "      <th>user_id</th>\n",
              "      <th>timestamp</th>\n",
              "      <th>group</th>\n",
              "      <th>landing_page</th>\n",
              "      <th>converted</th>\n",
              "    </tr>\n",
              "  </thead>\n",
              "  <tbody>\n",
              "    <tr>\n",
              "      <th>0</th>\n",
              "      <td>851104</td>\n",
              "      <td>2017-01-21 22:11:48.556739</td>\n",
              "      <td>control</td>\n",
              "      <td>old_page</td>\n",
              "      <td>0</td>\n",
              "    </tr>\n",
              "    <tr>\n",
              "      <th>1</th>\n",
              "      <td>804228</td>\n",
              "      <td>2017-01-12 08:01:45.159739</td>\n",
              "      <td>control</td>\n",
              "      <td>old_page</td>\n",
              "      <td>0</td>\n",
              "    </tr>\n",
              "    <tr>\n",
              "      <th>2</th>\n",
              "      <td>661590</td>\n",
              "      <td>2017-01-11 16:55:06.154213</td>\n",
              "      <td>treatment</td>\n",
              "      <td>new_page</td>\n",
              "      <td>0</td>\n",
              "    </tr>\n",
              "    <tr>\n",
              "      <th>3</th>\n",
              "      <td>853541</td>\n",
              "      <td>2017-01-08 18:28:03.143765</td>\n",
              "      <td>treatment</td>\n",
              "      <td>new_page</td>\n",
              "      <td>0</td>\n",
              "    </tr>\n",
              "    <tr>\n",
              "      <th>4</th>\n",
              "      <td>864975</td>\n",
              "      <td>2017-01-21 01:52:26.210827</td>\n",
              "      <td>control</td>\n",
              "      <td>old_page</td>\n",
              "      <td>1</td>\n",
              "    </tr>\n",
              "  </tbody>\n",
              "</table>\n",
              "</div>\n",
              "      <button class=\"colab-df-convert\" onclick=\"convertToInteractive('df-3e2f5df3-33cd-4eec-ab46-14cc31bdddca')\"\n",
              "              title=\"Convert this dataframe to an interactive table.\"\n",
              "              style=\"display:none;\">\n",
              "        \n",
              "  <svg xmlns=\"http://www.w3.org/2000/svg\" height=\"24px\"viewBox=\"0 0 24 24\"\n",
              "       width=\"24px\">\n",
              "    <path d=\"M0 0h24v24H0V0z\" fill=\"none\"/>\n",
              "    <path d=\"M18.56 5.44l.94 2.06.94-2.06 2.06-.94-2.06-.94-.94-2.06-.94 2.06-2.06.94zm-11 1L8.5 8.5l.94-2.06 2.06-.94-2.06-.94L8.5 2.5l-.94 2.06-2.06.94zm10 10l.94 2.06.94-2.06 2.06-.94-2.06-.94-.94-2.06-.94 2.06-2.06.94z\"/><path d=\"M17.41 7.96l-1.37-1.37c-.4-.4-.92-.59-1.43-.59-.52 0-1.04.2-1.43.59L10.3 9.45l-7.72 7.72c-.78.78-.78 2.05 0 2.83L4 21.41c.39.39.9.59 1.41.59.51 0 1.02-.2 1.41-.59l7.78-7.78 2.81-2.81c.8-.78.8-2.07 0-2.86zM5.41 20L4 18.59l7.72-7.72 1.47 1.35L5.41 20z\"/>\n",
              "  </svg>\n",
              "      </button>\n",
              "      \n",
              "  <style>\n",
              "    .colab-df-container {\n",
              "      display:flex;\n",
              "      flex-wrap:wrap;\n",
              "      gap: 12px;\n",
              "    }\n",
              "\n",
              "    .colab-df-convert {\n",
              "      background-color: #E8F0FE;\n",
              "      border: none;\n",
              "      border-radius: 50%;\n",
              "      cursor: pointer;\n",
              "      display: none;\n",
              "      fill: #1967D2;\n",
              "      height: 32px;\n",
              "      padding: 0 0 0 0;\n",
              "      width: 32px;\n",
              "    }\n",
              "\n",
              "    .colab-df-convert:hover {\n",
              "      background-color: #E2EBFA;\n",
              "      box-shadow: 0px 1px 2px rgba(60, 64, 67, 0.3), 0px 1px 3px 1px rgba(60, 64, 67, 0.15);\n",
              "      fill: #174EA6;\n",
              "    }\n",
              "\n",
              "    [theme=dark] .colab-df-convert {\n",
              "      background-color: #3B4455;\n",
              "      fill: #D2E3FC;\n",
              "    }\n",
              "\n",
              "    [theme=dark] .colab-df-convert:hover {\n",
              "      background-color: #434B5C;\n",
              "      box-shadow: 0px 1px 3px 1px rgba(0, 0, 0, 0.15);\n",
              "      filter: drop-shadow(0px 1px 2px rgba(0, 0, 0, 0.3));\n",
              "      fill: #FFFFFF;\n",
              "    }\n",
              "  </style>\n",
              "\n",
              "      <script>\n",
              "        const buttonEl =\n",
              "          document.querySelector('#df-3e2f5df3-33cd-4eec-ab46-14cc31bdddca button.colab-df-convert');\n",
              "        buttonEl.style.display =\n",
              "          google.colab.kernel.accessAllowed ? 'block' : 'none';\n",
              "\n",
              "        async function convertToInteractive(key) {\n",
              "          const element = document.querySelector('#df-3e2f5df3-33cd-4eec-ab46-14cc31bdddca');\n",
              "          const dataTable =\n",
              "            await google.colab.kernel.invokeFunction('convertToInteractive',\n",
              "                                                     [key], {});\n",
              "          if (!dataTable) return;\n",
              "\n",
              "          const docLinkHtml = 'Like what you see? Visit the ' +\n",
              "            '<a target=\"_blank\" href=https://colab.research.google.com/notebooks/data_table.ipynb>data table notebook</a>'\n",
              "            + ' to learn more about interactive tables.';\n",
              "          element.innerHTML = '';\n",
              "          dataTable['output_type'] = 'display_data';\n",
              "          await google.colab.output.renderOutput(dataTable, element);\n",
              "          const docLink = document.createElement('div');\n",
              "          docLink.innerHTML = docLinkHtml;\n",
              "          element.appendChild(docLink);\n",
              "        }\n",
              "      </script>\n",
              "    </div>\n",
              "  </div>\n",
              "  "
            ]
          },
          "metadata": {},
          "execution_count": 113
        }
      ],
      "source": [
        "dataset=pd.read_csv(\"ab_data.csv\")\n",
        "dataset.head()"
      ]
    },
    {
      "cell_type": "markdown",
      "metadata": {
        "id": "ZR-pDkfa1rG8"
      },
      "source": [
        "**b.** Use the cell below to find the number of rows in the dataset."
      ]
    },
    {
      "cell_type": "code",
      "execution_count": 114,
      "metadata": {
        "colab": {
          "base_uri": "https://localhost:8080/"
        },
        "id": "ytFzVb0v1rG9",
        "outputId": "7d91107f-200b-4468-88dd-0d6c76ff06d5"
      },
      "outputs": [
        {
          "output_type": "execute_result",
          "data": {
            "text/plain": [
              "(294478, 5)"
            ]
          },
          "metadata": {},
          "execution_count": 114
        }
      ],
      "source": [
        "dataset.shape"
      ]
    },
    {
      "cell_type": "markdown",
      "metadata": {
        "id": "nsoeR0f81rG9"
      },
      "source": [
        "**c.** The number of unique users in the dataset."
      ]
    },
    {
      "cell_type": "code",
      "execution_count": 115,
      "metadata": {
        "colab": {
          "base_uri": "https://localhost:8080/"
        },
        "id": "6SSXHDxS1rG9",
        "outputId": "06e793a0-cc3f-4be1-8825-7e85b5b06a24"
      },
      "outputs": [
        {
          "output_type": "execute_result",
          "data": {
            "text/plain": [
              "290584"
            ]
          },
          "metadata": {},
          "execution_count": 115
        }
      ],
      "source": [
        "dataset[\"user_id\"].unique().shape[0]"
      ]
    },
    {
      "cell_type": "markdown",
      "metadata": {
        "collapsed": true,
        "id": "Hxl1Br5m1rG-"
      },
      "source": [
        "**d.** The proportion of users converted."
      ]
    },
    {
      "cell_type": "code",
      "execution_count": 116,
      "metadata": {
        "colab": {
          "base_uri": "https://localhost:8080/"
        },
        "id": "4vgmsXyQ1rG_",
        "outputId": "bd3bdee1-5046-468f-c18a-91d59aa0943f"
      },
      "outputs": [
        {
          "output_type": "execute_result",
          "data": {
            "text/plain": [
              "0.11965919355605512"
            ]
          },
          "metadata": {},
          "execution_count": 116
        }
      ],
      "source": [
        "(dataset[\"converted\"]==1).mean()"
      ]
    },
    {
      "cell_type": "markdown",
      "metadata": {
        "collapsed": true,
        "id": "m2BjMsHL1rG_"
      },
      "source": [
        "**e.** The number of times when the \"group\" is `treatment` but \"landing_page\" is not a `new_page`."
      ]
    },
    {
      "cell_type": "code",
      "execution_count": 117,
      "metadata": {
        "colab": {
          "base_uri": "https://localhost:8080/"
        },
        "id": "IMr9f9TC1rG_",
        "outputId": "abb9be36-7aeb-4390-bc81-c6699e32ac7d"
      },
      "outputs": [
        {
          "output_type": "execute_result",
          "data": {
            "text/plain": [
              "1965"
            ]
          },
          "metadata": {},
          "execution_count": 117
        }
      ],
      "source": [
        "count = dataset.loc[(dataset[\"group\"] == \"treatment\") & (dataset[\"landing_page\"] != \"new_page\")]\n",
        "len(count.index)"
      ]
    },
    {
      "cell_type": "markdown",
      "metadata": {
        "id": "9ibjmZ4P1rHA"
      },
      "source": [
        "**f.** Do any of the rows have missing values?"
      ]
    },
    {
      "cell_type": "code",
      "execution_count": 118,
      "metadata": {
        "colab": {
          "base_uri": "https://localhost:8080/"
        },
        "id": "AAfdzht-1rHA",
        "outputId": "8a0c91b9-8ac3-4397-fe46-ebf234f835c2"
      },
      "outputs": [
        {
          "output_type": "execute_result",
          "data": {
            "text/plain": [
              "user_id         0\n",
              "timestamp       0\n",
              "group           0\n",
              "landing_page    0\n",
              "converted       0\n",
              "dtype: int64"
            ]
          },
          "metadata": {},
          "execution_count": 118
        }
      ],
      "source": [
        "dataset.isnull().sum()"
      ]
    },
    {
      "cell_type": "markdown",
      "metadata": {
        "id": "GfuXGz7J1rHA"
      },
      "source": [
        "### ToDo 1.2  \n",
        "In a particular row, the **group** and **landing_page** columns should have either of the following acceptable values:\n",
        "\n",
        "|user_id| timestamp|group|landing_page|converted|\n",
        "|---|---|---|---|---|\n",
        "|XXXX|XXXX|`control`| `old_page`|X |\n",
        "|XXXX|XXXX|`treatment`|`new_page`|X |\n",
        "\n",
        "\n",
        "It means, the `control` group users should match with `old_page`; and `treatment` group users should matched with the `new_page`. \n",
        "\n",
        "However, for the rows where `treatment` does not match with `new_page` or `control` does not match with `old_page`, we cannot be sure if such rows truly received the new or old wepage.  \n",
        "\n",
        "\n",
        "Use **Quiz 2** in the classroom to figure out how should we handle the rows where the group and landing_page columns don't match?\n",
        "\n",
        "**a.** Now use the answer to the quiz to create a new dataset that meets the specifications from the quiz.  Store your new dataframe in **df2**."
      ]
    },
    {
      "cell_type": "code",
      "execution_count": 119,
      "metadata": {
        "id": "jbGYwW0Y1rHB"
      },
      "outputs": [],
      "source": [
        "# Remove the inaccurate rows, and store the result in a new dataframe df2\n",
        "dropped_rows=dataset[((dataset['group'] == 'treatment') == (dataset['landing_page'] == 'new_page')) == False].index\n",
        "df2=dataset.drop(dropped_rows,axis=0)"
      ]
    },
    {
      "cell_type": "code",
      "execution_count": 120,
      "metadata": {
        "colab": {
          "base_uri": "https://localhost:8080/"
        },
        "id": "GBQVG8Oz1rHB",
        "outputId": "2a1af0c1-0f3e-4916-f9f0-d97f39fa9aa9"
      },
      "outputs": [
        {
          "output_type": "execute_result",
          "data": {
            "text/plain": [
              "0"
            ]
          },
          "metadata": {},
          "execution_count": 120
        }
      ],
      "source": [
        "# Double Check all of the incorrect rows were removed from df2 - \n",
        "# Output of the statement below should be 0\n",
        "df2[((df2['group'] == 'treatment') == (df2['landing_page'] == 'new_page')) == False].shape[0]"
      ]
    },
    {
      "cell_type": "markdown",
      "metadata": {
        "id": "rTYlHj2t1rHB"
      },
      "source": [
        "### ToDo 1.3  \n",
        "Use **df2** and the cells below to answer questions for **Quiz 3** in the classroom."
      ]
    },
    {
      "cell_type": "markdown",
      "metadata": {
        "id": "EaN1orbX1rHB"
      },
      "source": [
        "**a.** How many unique **user_id**s are in **df2**?"
      ]
    },
    {
      "cell_type": "code",
      "execution_count": 121,
      "metadata": {
        "colab": {
          "base_uri": "https://localhost:8080/"
        },
        "id": "ohLUcfPk1rHC",
        "outputId": "a50abeac-4a39-48a8-d40e-0e5b06d3d95f"
      },
      "outputs": [
        {
          "output_type": "stream",
          "name": "stdout",
          "text": [
            "290585\n"
          ]
        },
        {
          "output_type": "execute_result",
          "data": {
            "text/plain": [
              "290584"
            ]
          },
          "metadata": {},
          "execution_count": 121
        }
      ],
      "source": [
        "print(df2.shape[0])\n",
        "df2[\"user_id\"].unique().shape[0]"
      ]
    },
    {
      "cell_type": "markdown",
      "metadata": {
        "collapsed": true,
        "id": "yLFvU9mR1rHC"
      },
      "source": [
        "**b.** There is one **user_id** repeated in **df2**.  What is it?"
      ]
    },
    {
      "cell_type": "code",
      "execution_count": 122,
      "metadata": {
        "colab": {
          "base_uri": "https://localhost:8080/"
        },
        "id": "Cn0beSuW1rHC",
        "outputId": "5b79e060-594f-4698-ac92-0ab955c2a644"
      },
      "outputs": [
        {
          "output_type": "execute_result",
          "data": {
            "text/plain": [
              "1"
            ]
          },
          "metadata": {},
          "execution_count": 122
        }
      ],
      "source": [
        "df2.duplicated(subset=[\"user_id\"]).value_counts().loc[True]"
      ]
    },
    {
      "cell_type": "markdown",
      "metadata": {
        "id": "F96ZZx701rHC"
      },
      "source": [
        "**c.** Display the rows for the duplicate **user_id**? "
      ]
    },
    {
      "cell_type": "code",
      "execution_count": 123,
      "metadata": {
        "colab": {
          "base_uri": "https://localhost:8080/",
          "height": 0
        },
        "id": "3uhHuo1m1rHD",
        "outputId": "6fe8d343-1e77-406c-892a-0d8cf888d638"
      },
      "outputs": [
        {
          "output_type": "execute_result",
          "data": {
            "text/plain": [
              "      user_id                   timestamp      group landing_page  converted\n",
              "1899   773192  2017-01-09 05:37:58.781806  treatment     new_page          0\n",
              "2893   773192  2017-01-14 02:55:59.590927  treatment     new_page          0"
            ],
            "text/html": [
              "\n",
              "  <div id=\"df-73f7ad63-aae5-4593-b568-78aaa9c35089\">\n",
              "    <div class=\"colab-df-container\">\n",
              "      <div>\n",
              "<style scoped>\n",
              "    .dataframe tbody tr th:only-of-type {\n",
              "        vertical-align: middle;\n",
              "    }\n",
              "\n",
              "    .dataframe tbody tr th {\n",
              "        vertical-align: top;\n",
              "    }\n",
              "\n",
              "    .dataframe thead th {\n",
              "        text-align: right;\n",
              "    }\n",
              "</style>\n",
              "<table border=\"1\" class=\"dataframe\">\n",
              "  <thead>\n",
              "    <tr style=\"text-align: right;\">\n",
              "      <th></th>\n",
              "      <th>user_id</th>\n",
              "      <th>timestamp</th>\n",
              "      <th>group</th>\n",
              "      <th>landing_page</th>\n",
              "      <th>converted</th>\n",
              "    </tr>\n",
              "  </thead>\n",
              "  <tbody>\n",
              "    <tr>\n",
              "      <th>1899</th>\n",
              "      <td>773192</td>\n",
              "      <td>2017-01-09 05:37:58.781806</td>\n",
              "      <td>treatment</td>\n",
              "      <td>new_page</td>\n",
              "      <td>0</td>\n",
              "    </tr>\n",
              "    <tr>\n",
              "      <th>2893</th>\n",
              "      <td>773192</td>\n",
              "      <td>2017-01-14 02:55:59.590927</td>\n",
              "      <td>treatment</td>\n",
              "      <td>new_page</td>\n",
              "      <td>0</td>\n",
              "    </tr>\n",
              "  </tbody>\n",
              "</table>\n",
              "</div>\n",
              "      <button class=\"colab-df-convert\" onclick=\"convertToInteractive('df-73f7ad63-aae5-4593-b568-78aaa9c35089')\"\n",
              "              title=\"Convert this dataframe to an interactive table.\"\n",
              "              style=\"display:none;\">\n",
              "        \n",
              "  <svg xmlns=\"http://www.w3.org/2000/svg\" height=\"24px\"viewBox=\"0 0 24 24\"\n",
              "       width=\"24px\">\n",
              "    <path d=\"M0 0h24v24H0V0z\" fill=\"none\"/>\n",
              "    <path d=\"M18.56 5.44l.94 2.06.94-2.06 2.06-.94-2.06-.94-.94-2.06-.94 2.06-2.06.94zm-11 1L8.5 8.5l.94-2.06 2.06-.94-2.06-.94L8.5 2.5l-.94 2.06-2.06.94zm10 10l.94 2.06.94-2.06 2.06-.94-2.06-.94-.94-2.06-.94 2.06-2.06.94z\"/><path d=\"M17.41 7.96l-1.37-1.37c-.4-.4-.92-.59-1.43-.59-.52 0-1.04.2-1.43.59L10.3 9.45l-7.72 7.72c-.78.78-.78 2.05 0 2.83L4 21.41c.39.39.9.59 1.41.59.51 0 1.02-.2 1.41-.59l7.78-7.78 2.81-2.81c.8-.78.8-2.07 0-2.86zM5.41 20L4 18.59l7.72-7.72 1.47 1.35L5.41 20z\"/>\n",
              "  </svg>\n",
              "      </button>\n",
              "      \n",
              "  <style>\n",
              "    .colab-df-container {\n",
              "      display:flex;\n",
              "      flex-wrap:wrap;\n",
              "      gap: 12px;\n",
              "    }\n",
              "\n",
              "    .colab-df-convert {\n",
              "      background-color: #E8F0FE;\n",
              "      border: none;\n",
              "      border-radius: 50%;\n",
              "      cursor: pointer;\n",
              "      display: none;\n",
              "      fill: #1967D2;\n",
              "      height: 32px;\n",
              "      padding: 0 0 0 0;\n",
              "      width: 32px;\n",
              "    }\n",
              "\n",
              "    .colab-df-convert:hover {\n",
              "      background-color: #E2EBFA;\n",
              "      box-shadow: 0px 1px 2px rgba(60, 64, 67, 0.3), 0px 1px 3px 1px rgba(60, 64, 67, 0.15);\n",
              "      fill: #174EA6;\n",
              "    }\n",
              "\n",
              "    [theme=dark] .colab-df-convert {\n",
              "      background-color: #3B4455;\n",
              "      fill: #D2E3FC;\n",
              "    }\n",
              "\n",
              "    [theme=dark] .colab-df-convert:hover {\n",
              "      background-color: #434B5C;\n",
              "      box-shadow: 0px 1px 3px 1px rgba(0, 0, 0, 0.15);\n",
              "      filter: drop-shadow(0px 1px 2px rgba(0, 0, 0, 0.3));\n",
              "      fill: #FFFFFF;\n",
              "    }\n",
              "  </style>\n",
              "\n",
              "      <script>\n",
              "        const buttonEl =\n",
              "          document.querySelector('#df-73f7ad63-aae5-4593-b568-78aaa9c35089 button.colab-df-convert');\n",
              "        buttonEl.style.display =\n",
              "          google.colab.kernel.accessAllowed ? 'block' : 'none';\n",
              "\n",
              "        async function convertToInteractive(key) {\n",
              "          const element = document.querySelector('#df-73f7ad63-aae5-4593-b568-78aaa9c35089');\n",
              "          const dataTable =\n",
              "            await google.colab.kernel.invokeFunction('convertToInteractive',\n",
              "                                                     [key], {});\n",
              "          if (!dataTable) return;\n",
              "\n",
              "          const docLinkHtml = 'Like what you see? Visit the ' +\n",
              "            '<a target=\"_blank\" href=https://colab.research.google.com/notebooks/data_table.ipynb>data table notebook</a>'\n",
              "            + ' to learn more about interactive tables.';\n",
              "          element.innerHTML = '';\n",
              "          dataTable['output_type'] = 'display_data';\n",
              "          await google.colab.output.renderOutput(dataTable, element);\n",
              "          const docLink = document.createElement('div');\n",
              "          docLink.innerHTML = docLinkHtml;\n",
              "          element.appendChild(docLink);\n",
              "        }\n",
              "      </script>\n",
              "    </div>\n",
              "  </div>\n",
              "  "
            ]
          },
          "metadata": {},
          "execution_count": 123
        }
      ],
      "source": [
        "df2[df2.duplicated(subset=[\"user_id\"], keep=False)]"
      ]
    },
    {
      "cell_type": "markdown",
      "metadata": {
        "id": "ImGKD61O1rHD"
      },
      "source": [
        "**d.** Remove **one** of the rows with a duplicate **user_id**, from the **df2** dataframe."
      ]
    },
    {
      "cell_type": "code",
      "execution_count": 124,
      "metadata": {
        "colab": {
          "base_uri": "https://localhost:8080/",
          "height": 0
        },
        "id": "y-8ATRw51rHD",
        "outputId": "dac40215-dec3-4e98-f45c-1704ab14029a"
      },
      "outputs": [
        {
          "output_type": "execute_result",
          "data": {
            "text/plain": [
              "Empty DataFrame\n",
              "Columns: [user_id, timestamp, group, landing_page, converted]\n",
              "Index: []"
            ],
            "text/html": [
              "\n",
              "  <div id=\"df-385b5524-d2f9-4c9b-aa9d-998592267085\">\n",
              "    <div class=\"colab-df-container\">\n",
              "      <div>\n",
              "<style scoped>\n",
              "    .dataframe tbody tr th:only-of-type {\n",
              "        vertical-align: middle;\n",
              "    }\n",
              "\n",
              "    .dataframe tbody tr th {\n",
              "        vertical-align: top;\n",
              "    }\n",
              "\n",
              "    .dataframe thead th {\n",
              "        text-align: right;\n",
              "    }\n",
              "</style>\n",
              "<table border=\"1\" class=\"dataframe\">\n",
              "  <thead>\n",
              "    <tr style=\"text-align: right;\">\n",
              "      <th></th>\n",
              "      <th>user_id</th>\n",
              "      <th>timestamp</th>\n",
              "      <th>group</th>\n",
              "      <th>landing_page</th>\n",
              "      <th>converted</th>\n",
              "    </tr>\n",
              "  </thead>\n",
              "  <tbody>\n",
              "  </tbody>\n",
              "</table>\n",
              "</div>\n",
              "      <button class=\"colab-df-convert\" onclick=\"convertToInteractive('df-385b5524-d2f9-4c9b-aa9d-998592267085')\"\n",
              "              title=\"Convert this dataframe to an interactive table.\"\n",
              "              style=\"display:none;\">\n",
              "        \n",
              "  <svg xmlns=\"http://www.w3.org/2000/svg\" height=\"24px\"viewBox=\"0 0 24 24\"\n",
              "       width=\"24px\">\n",
              "    <path d=\"M0 0h24v24H0V0z\" fill=\"none\"/>\n",
              "    <path d=\"M18.56 5.44l.94 2.06.94-2.06 2.06-.94-2.06-.94-.94-2.06-.94 2.06-2.06.94zm-11 1L8.5 8.5l.94-2.06 2.06-.94-2.06-.94L8.5 2.5l-.94 2.06-2.06.94zm10 10l.94 2.06.94-2.06 2.06-.94-2.06-.94-.94-2.06-.94 2.06-2.06.94z\"/><path d=\"M17.41 7.96l-1.37-1.37c-.4-.4-.92-.59-1.43-.59-.52 0-1.04.2-1.43.59L10.3 9.45l-7.72 7.72c-.78.78-.78 2.05 0 2.83L4 21.41c.39.39.9.59 1.41.59.51 0 1.02-.2 1.41-.59l7.78-7.78 2.81-2.81c.8-.78.8-2.07 0-2.86zM5.41 20L4 18.59l7.72-7.72 1.47 1.35L5.41 20z\"/>\n",
              "  </svg>\n",
              "      </button>\n",
              "      \n",
              "  <style>\n",
              "    .colab-df-container {\n",
              "      display:flex;\n",
              "      flex-wrap:wrap;\n",
              "      gap: 12px;\n",
              "    }\n",
              "\n",
              "    .colab-df-convert {\n",
              "      background-color: #E8F0FE;\n",
              "      border: none;\n",
              "      border-radius: 50%;\n",
              "      cursor: pointer;\n",
              "      display: none;\n",
              "      fill: #1967D2;\n",
              "      height: 32px;\n",
              "      padding: 0 0 0 0;\n",
              "      width: 32px;\n",
              "    }\n",
              "\n",
              "    .colab-df-convert:hover {\n",
              "      background-color: #E2EBFA;\n",
              "      box-shadow: 0px 1px 2px rgba(60, 64, 67, 0.3), 0px 1px 3px 1px rgba(60, 64, 67, 0.15);\n",
              "      fill: #174EA6;\n",
              "    }\n",
              "\n",
              "    [theme=dark] .colab-df-convert {\n",
              "      background-color: #3B4455;\n",
              "      fill: #D2E3FC;\n",
              "    }\n",
              "\n",
              "    [theme=dark] .colab-df-convert:hover {\n",
              "      background-color: #434B5C;\n",
              "      box-shadow: 0px 1px 3px 1px rgba(0, 0, 0, 0.15);\n",
              "      filter: drop-shadow(0px 1px 2px rgba(0, 0, 0, 0.3));\n",
              "      fill: #FFFFFF;\n",
              "    }\n",
              "  </style>\n",
              "\n",
              "      <script>\n",
              "        const buttonEl =\n",
              "          document.querySelector('#df-385b5524-d2f9-4c9b-aa9d-998592267085 button.colab-df-convert');\n",
              "        buttonEl.style.display =\n",
              "          google.colab.kernel.accessAllowed ? 'block' : 'none';\n",
              "\n",
              "        async function convertToInteractive(key) {\n",
              "          const element = document.querySelector('#df-385b5524-d2f9-4c9b-aa9d-998592267085');\n",
              "          const dataTable =\n",
              "            await google.colab.kernel.invokeFunction('convertToInteractive',\n",
              "                                                     [key], {});\n",
              "          if (!dataTable) return;\n",
              "\n",
              "          const docLinkHtml = 'Like what you see? Visit the ' +\n",
              "            '<a target=\"_blank\" href=https://colab.research.google.com/notebooks/data_table.ipynb>data table notebook</a>'\n",
              "            + ' to learn more about interactive tables.';\n",
              "          element.innerHTML = '';\n",
              "          dataTable['output_type'] = 'display_data';\n",
              "          await google.colab.output.renderOutput(dataTable, element);\n",
              "          const docLink = document.createElement('div');\n",
              "          docLink.innerHTML = docLinkHtml;\n",
              "          element.appendChild(docLink);\n",
              "        }\n",
              "      </script>\n",
              "    </div>\n",
              "  </div>\n",
              "  "
            ]
          },
          "metadata": {},
          "execution_count": 124
        }
      ],
      "source": [
        "# Remove one of the rows with a duplicate user_id..\n",
        "# Hint: The dataframe.drop_duplicates() may not work in this case because the rows with duplicate user_id are not entirely identical. \n",
        "df2.drop(df2[df2.duplicated(subset=[\"user_id\"])].index, inplace=True)\n",
        "# Check again if the row with a duplicate user_id is deleted or not\n",
        "df2[df2.duplicated(subset=[\"user_id\"], keep=False)]"
      ]
    },
    {
      "cell_type": "markdown",
      "metadata": {
        "id": "FkOp2uu71rHD"
      },
      "source": [
        "### ToDo 1.4  \n",
        "Use **df2** in the cells below to answer the quiz questions related to **Quiz 4** in the classroom.\n",
        "\n",
        "**a.** What is the probability of an individual converting regardless of the page they receive?<br><br>\n",
        "\n",
        ">**Tip**: The probability  you'll compute represents the overall \"converted\" success rate in the population and you may call it $p_{population}$.\n",
        "\n"
      ]
    },
    {
      "cell_type": "code",
      "execution_count": 125,
      "metadata": {
        "colab": {
          "base_uri": "https://localhost:8080/",
          "height": 0
        },
        "id": "4KguHsZW1rHD",
        "outputId": "d58fb21a-75bb-4547-ab7c-a542a7b5d2b1"
      },
      "outputs": [
        {
          "output_type": "execute_result",
          "data": {
            "text/plain": [
              "   user_id                   timestamp      group landing_page  converted\n",
              "0   851104  2017-01-21 22:11:48.556739    control     old_page          0\n",
              "1   804228  2017-01-12 08:01:45.159739    control     old_page          0\n",
              "2   661590  2017-01-11 16:55:06.154213  treatment     new_page          0\n",
              "3   853541  2017-01-08 18:28:03.143765  treatment     new_page          0\n",
              "4   864975  2017-01-21 01:52:26.210827    control     old_page          1"
            ],
            "text/html": [
              "\n",
              "  <div id=\"df-0d0cbcdb-3c3b-4b8d-a15b-7aa3849b69d7\">\n",
              "    <div class=\"colab-df-container\">\n",
              "      <div>\n",
              "<style scoped>\n",
              "    .dataframe tbody tr th:only-of-type {\n",
              "        vertical-align: middle;\n",
              "    }\n",
              "\n",
              "    .dataframe tbody tr th {\n",
              "        vertical-align: top;\n",
              "    }\n",
              "\n",
              "    .dataframe thead th {\n",
              "        text-align: right;\n",
              "    }\n",
              "</style>\n",
              "<table border=\"1\" class=\"dataframe\">\n",
              "  <thead>\n",
              "    <tr style=\"text-align: right;\">\n",
              "      <th></th>\n",
              "      <th>user_id</th>\n",
              "      <th>timestamp</th>\n",
              "      <th>group</th>\n",
              "      <th>landing_page</th>\n",
              "      <th>converted</th>\n",
              "    </tr>\n",
              "  </thead>\n",
              "  <tbody>\n",
              "    <tr>\n",
              "      <th>0</th>\n",
              "      <td>851104</td>\n",
              "      <td>2017-01-21 22:11:48.556739</td>\n",
              "      <td>control</td>\n",
              "      <td>old_page</td>\n",
              "      <td>0</td>\n",
              "    </tr>\n",
              "    <tr>\n",
              "      <th>1</th>\n",
              "      <td>804228</td>\n",
              "      <td>2017-01-12 08:01:45.159739</td>\n",
              "      <td>control</td>\n",
              "      <td>old_page</td>\n",
              "      <td>0</td>\n",
              "    </tr>\n",
              "    <tr>\n",
              "      <th>2</th>\n",
              "      <td>661590</td>\n",
              "      <td>2017-01-11 16:55:06.154213</td>\n",
              "      <td>treatment</td>\n",
              "      <td>new_page</td>\n",
              "      <td>0</td>\n",
              "    </tr>\n",
              "    <tr>\n",
              "      <th>3</th>\n",
              "      <td>853541</td>\n",
              "      <td>2017-01-08 18:28:03.143765</td>\n",
              "      <td>treatment</td>\n",
              "      <td>new_page</td>\n",
              "      <td>0</td>\n",
              "    </tr>\n",
              "    <tr>\n",
              "      <th>4</th>\n",
              "      <td>864975</td>\n",
              "      <td>2017-01-21 01:52:26.210827</td>\n",
              "      <td>control</td>\n",
              "      <td>old_page</td>\n",
              "      <td>1</td>\n",
              "    </tr>\n",
              "  </tbody>\n",
              "</table>\n",
              "</div>\n",
              "      <button class=\"colab-df-convert\" onclick=\"convertToInteractive('df-0d0cbcdb-3c3b-4b8d-a15b-7aa3849b69d7')\"\n",
              "              title=\"Convert this dataframe to an interactive table.\"\n",
              "              style=\"display:none;\">\n",
              "        \n",
              "  <svg xmlns=\"http://www.w3.org/2000/svg\" height=\"24px\"viewBox=\"0 0 24 24\"\n",
              "       width=\"24px\">\n",
              "    <path d=\"M0 0h24v24H0V0z\" fill=\"none\"/>\n",
              "    <path d=\"M18.56 5.44l.94 2.06.94-2.06 2.06-.94-2.06-.94-.94-2.06-.94 2.06-2.06.94zm-11 1L8.5 8.5l.94-2.06 2.06-.94-2.06-.94L8.5 2.5l-.94 2.06-2.06.94zm10 10l.94 2.06.94-2.06 2.06-.94-2.06-.94-.94-2.06-.94 2.06-2.06.94z\"/><path d=\"M17.41 7.96l-1.37-1.37c-.4-.4-.92-.59-1.43-.59-.52 0-1.04.2-1.43.59L10.3 9.45l-7.72 7.72c-.78.78-.78 2.05 0 2.83L4 21.41c.39.39.9.59 1.41.59.51 0 1.02-.2 1.41-.59l7.78-7.78 2.81-2.81c.8-.78.8-2.07 0-2.86zM5.41 20L4 18.59l7.72-7.72 1.47 1.35L5.41 20z\"/>\n",
              "  </svg>\n",
              "      </button>\n",
              "      \n",
              "  <style>\n",
              "    .colab-df-container {\n",
              "      display:flex;\n",
              "      flex-wrap:wrap;\n",
              "      gap: 12px;\n",
              "    }\n",
              "\n",
              "    .colab-df-convert {\n",
              "      background-color: #E8F0FE;\n",
              "      border: none;\n",
              "      border-radius: 50%;\n",
              "      cursor: pointer;\n",
              "      display: none;\n",
              "      fill: #1967D2;\n",
              "      height: 32px;\n",
              "      padding: 0 0 0 0;\n",
              "      width: 32px;\n",
              "    }\n",
              "\n",
              "    .colab-df-convert:hover {\n",
              "      background-color: #E2EBFA;\n",
              "      box-shadow: 0px 1px 2px rgba(60, 64, 67, 0.3), 0px 1px 3px 1px rgba(60, 64, 67, 0.15);\n",
              "      fill: #174EA6;\n",
              "    }\n",
              "\n",
              "    [theme=dark] .colab-df-convert {\n",
              "      background-color: #3B4455;\n",
              "      fill: #D2E3FC;\n",
              "    }\n",
              "\n",
              "    [theme=dark] .colab-df-convert:hover {\n",
              "      background-color: #434B5C;\n",
              "      box-shadow: 0px 1px 3px 1px rgba(0, 0, 0, 0.15);\n",
              "      filter: drop-shadow(0px 1px 2px rgba(0, 0, 0, 0.3));\n",
              "      fill: #FFFFFF;\n",
              "    }\n",
              "  </style>\n",
              "\n",
              "      <script>\n",
              "        const buttonEl =\n",
              "          document.querySelector('#df-0d0cbcdb-3c3b-4b8d-a15b-7aa3849b69d7 button.colab-df-convert');\n",
              "        buttonEl.style.display =\n",
              "          google.colab.kernel.accessAllowed ? 'block' : 'none';\n",
              "\n",
              "        async function convertToInteractive(key) {\n",
              "          const element = document.querySelector('#df-0d0cbcdb-3c3b-4b8d-a15b-7aa3849b69d7');\n",
              "          const dataTable =\n",
              "            await google.colab.kernel.invokeFunction('convertToInteractive',\n",
              "                                                     [key], {});\n",
              "          if (!dataTable) return;\n",
              "\n",
              "          const docLinkHtml = 'Like what you see? Visit the ' +\n",
              "            '<a target=\"_blank\" href=https://colab.research.google.com/notebooks/data_table.ipynb>data table notebook</a>'\n",
              "            + ' to learn more about interactive tables.';\n",
              "          element.innerHTML = '';\n",
              "          dataTable['output_type'] = 'display_data';\n",
              "          await google.colab.output.renderOutput(dataTable, element);\n",
              "          const docLink = document.createElement('div');\n",
              "          docLink.innerHTML = docLinkHtml;\n",
              "          element.appendChild(docLink);\n",
              "        }\n",
              "      </script>\n",
              "    </div>\n",
              "  </div>\n",
              "  "
            ]
          },
          "metadata": {},
          "execution_count": 125
        }
      ],
      "source": [
        "df2.head()"
      ]
    },
    {
      "cell_type": "code",
      "execution_count": 126,
      "metadata": {
        "colab": {
          "base_uri": "https://localhost:8080/"
        },
        "id": "T7j_bsgx1rHD",
        "outputId": "2327ee7a-4efb-47da-fa30-08c444052e6d"
      },
      "outputs": [
        {
          "output_type": "execute_result",
          "data": {
            "text/plain": [
              "0.11959708724499628"
            ]
          },
          "metadata": {},
          "execution_count": 126
        }
      ],
      "source": [
        "(df2[\"converted\"]==1).mean()"
      ]
    },
    {
      "cell_type": "markdown",
      "metadata": {
        "id": "fx9bHa7r1rHE"
      },
      "source": [
        "**b.** Given that an individual was in the `control` group, what is the probability they converted?"
      ]
    },
    {
      "cell_type": "code",
      "execution_count": 127,
      "metadata": {
        "colab": {
          "base_uri": "https://localhost:8080/"
        },
        "id": "IIXU_AM61rHE",
        "outputId": "150ba9ae-f588-4772-95db-7e8c3b11f029"
      },
      "outputs": [
        {
          "output_type": "execute_result",
          "data": {
            "text/plain": [
              "0.1203863045004612"
            ]
          },
          "metadata": {},
          "execution_count": 127
        }
      ],
      "source": [
        "query1=(df2.query('group==\"control\"')[\"converted\"]==1).mean()\n",
        "query1"
      ]
    },
    {
      "cell_type": "markdown",
      "metadata": {
        "id": "dDgfhJJv1rHE"
      },
      "source": [
        "**c.** Given that an individual was in the `treatment` group, what is the probability they converted?"
      ]
    },
    {
      "cell_type": "code",
      "execution_count": 128,
      "metadata": {
        "colab": {
          "base_uri": "https://localhost:8080/"
        },
        "id": "4o_8r1fR1rHE",
        "outputId": "59135f09-933f-4c4d-ec73-8c90b050338b"
      },
      "outputs": [
        {
          "output_type": "execute_result",
          "data": {
            "text/plain": [
              "0.11880806551510564"
            ]
          },
          "metadata": {},
          "execution_count": 128
        }
      ],
      "source": [
        "query2=(df2.query('group==\"treatment\"')[\"converted\"]==1).mean()\n",
        "query2"
      ]
    },
    {
      "cell_type": "markdown",
      "metadata": {
        "id": "fu8HO6wZ1rHE"
      },
      "source": [
        ">**Tip**: The probabilities you've computed in the points (b). and (c). above can also be treated as conversion rate. \n",
        "Calculate the actual difference  (`obs_diff`) between the conversion rates for the two groups. You will need that later.  "
      ]
    },
    {
      "cell_type": "code",
      "execution_count": 129,
      "metadata": {
        "colab": {
          "base_uri": "https://localhost:8080/"
        },
        "id": "hbxq4efj1rHE",
        "outputId": "10f48d47-7a3d-4f49-aeec-ae47fac5d350"
      },
      "outputs": [
        {
          "output_type": "execute_result",
          "data": {
            "text/plain": [
              "-0.0015782389853555567"
            ]
          },
          "metadata": {},
          "execution_count": 129
        }
      ],
      "source": [
        "# Calculate the actual difference (obs_diff) between the conversion rates for the two groups.\n",
        "obs_diff=query2-query1\n",
        "obs_diff"
      ]
    },
    {
      "cell_type": "markdown",
      "metadata": {
        "id": "z72smnX11rHF"
      },
      "source": [
        "**d.** What is the probability that an individual received the new page?"
      ]
    },
    {
      "cell_type": "code",
      "execution_count": 130,
      "metadata": {
        "colab": {
          "base_uri": "https://localhost:8080/"
        },
        "id": "hQXmYUqx1rHF",
        "outputId": "58c6f192-ff5d-4305-caea-4d80d5e8e865"
      },
      "outputs": [
        {
          "output_type": "execute_result",
          "data": {
            "text/plain": [
              "0.5000619442226688"
            ]
          },
          "metadata": {},
          "execution_count": 130
        }
      ],
      "source": [
        "(df2[\"landing_page\"]==\"new_page\").mean()"
      ]
    },
    {
      "cell_type": "markdown",
      "metadata": {
        "id": "TbL5SfNp1rHF"
      },
      "source": [
        "**e.** Consider your results from parts (a) through (d) above, and explain below whether the new `treatment` group users lead to more conversions."
      ]
    },
    {
      "cell_type": "markdown",
      "metadata": {
        "id": "cS-X_1ob1rHF"
      },
      "source": [
        "a- probability of overall is converted is  0.119\n",
        "\n",
        "b- probability of overall is converted and group is control is  0.12\n",
        "\n",
        "c- probability of overall is converted and group is treatment is  0.118\n",
        "\n",
        "d-probability of overall if landing_page is new_page is  0.50"
      ]
    },
    {
      "cell_type": "markdown",
      "metadata": {
        "id": "Zn7npl4I1rHF"
      },
      "source": [
        "<a id='ab_test'></a>\n",
        "## Part II - A/B Test\n",
        "\n",
        "Since a timestamp is associated with each event, you could run a hypothesis test continuously as long as you observe the events. \n",
        "\n",
        "However, then the hard questions would be: \n",
        "- Do you stop as soon as one page is considered significantly better than another or does it need to happen consistently for a certain amount of time?  \n",
        "- How long do you run to render a decision that neither page is better than another?  \n",
        "\n",
        "These questions are the difficult parts associated with A/B tests in general.  \n",
        "\n",
        "\n",
        "### ToDo 2.1\n",
        "For now, consider you need to make the decision just based on all the data provided.  \n",
        "\n",
        "> Recall that you just calculated that the \"converted\" probability (or rate) for the old page is *slightly* higher than that of the new page (ToDo 1.4.c). \n",
        "\n",
        "If you want to assume that the old page is better unless the new page proves to be definitely better at a Type I error rate of 5%, what should be your null and alternative hypotheses (**$H_0$** and **$H_1$**)?  \n",
        "\n",
        "You can state your hypothesis in terms of words or in terms of **$p_{old}$** and **$p_{new}$**, which are the \"converted\" probability (or rate) for the old and new pages respectively."
      ]
    },
    {
      "cell_type": "markdown",
      "metadata": {
        "id": "gej0bZVI1rHF"
      },
      "source": [
        " H0: Pnew - Pold <= 0\n",
        " H1: Pnew - Pold > 0"
      ]
    },
    {
      "cell_type": "markdown",
      "metadata": {
        "id": "w2E98PkE1rHF"
      },
      "source": [
        "### ToDo 2.2 - Null Hypothesis $H_0$ Testing\n",
        "Under the null hypothesis $H_0$, assume that $p_{new}$ and $p_{old}$ are equal. Furthermore, assume that $p_{new}$ and $p_{old}$ both are equal to the **converted** success rate in the `df2` data regardless of the page. So, our assumption is: <br><br>\n",
        "<center>\n",
        "$p_{new}$ = $p_{old}$ = $p_{population}$\n",
        "</center>\n",
        "\n",
        "In this section, you will: \n",
        "\n",
        "- Simulate (bootstrap) sample data set for both groups, and compute the  \"converted\" probability $p$ for those samples. \n",
        "\n",
        "\n",
        "- Use a sample size for each group equal to the ones in the `df2` data.\n",
        "\n",
        "\n",
        "- Compute the difference in the \"converted\" probability for the two samples above. \n",
        "\n",
        "\n",
        "- Perform the sampling distribution for the \"difference in the converted probability\" between the two simulated-samples over 10,000 iterations; and calculate an estimate. \n",
        "\n",
        "\n",
        "\n",
        "Use the cells below to provide the necessary parts of this simulation.  You can use **Quiz 5** in the classroom to make sure you are on the right track."
      ]
    },
    {
      "cell_type": "markdown",
      "metadata": {
        "id": "MWRpX2sn1rHF"
      },
      "source": [
        "**a.** What is the **conversion rate** for $p_{new}$ under the null hypothesis? "
      ]
    },
    {
      "cell_type": "code",
      "execution_count": 131,
      "metadata": {
        "colab": {
          "base_uri": "https://localhost:8080/"
        },
        "id": "gRo8g7nO1rHG",
        "outputId": "2b27ec17-ab07-4ba0-98e5-958cf37aeb6d"
      },
      "outputs": [
        {
          "output_type": "execute_result",
          "data": {
            "text/plain": [
              "0.11959708724499628"
            ]
          },
          "metadata": {},
          "execution_count": 131
        }
      ],
      "source": [
        "P_new =(df2[\"converted\"]==1).mean()\n",
        "P_new"
      ]
    },
    {
      "cell_type": "markdown",
      "metadata": {
        "id": "Gax-oXZG1rHG"
      },
      "source": [
        "**b.** What is the **conversion rate** for $p_{old}$ under the null hypothesis? "
      ]
    },
    {
      "cell_type": "code",
      "execution_count": 132,
      "metadata": {
        "colab": {
          "base_uri": "https://localhost:8080/"
        },
        "id": "496bsoWG1rHG",
        "outputId": "eee201f6-7f31-47ad-d050-49a25888ee32"
      },
      "outputs": [
        {
          "output_type": "execute_result",
          "data": {
            "text/plain": [
              "0.11959708724499628"
            ]
          },
          "metadata": {},
          "execution_count": 132
        }
      ],
      "source": [
        "P_old =(df2[\"converted\"]==1).mean()\n",
        "P_old"
      ]
    },
    {
      "cell_type": "markdown",
      "metadata": {
        "id": "Spe3bwCH1rHG"
      },
      "source": [
        "**c.** What is $n_{new}$, the number of individuals in the treatment group? <br><br>\n",
        "*Hint*: The treatment group users are shown the new page."
      ]
    },
    {
      "cell_type": "code",
      "execution_count": 133,
      "metadata": {
        "colab": {
          "base_uri": "https://localhost:8080/"
        },
        "id": "QQwMI-j11rHG",
        "outputId": "3f19257a-1b1d-4974-fe4e-7f9d8fbe5421"
      },
      "outputs": [
        {
          "output_type": "execute_result",
          "data": {
            "text/plain": [
              "145310"
            ]
          },
          "metadata": {},
          "execution_count": 133
        }
      ],
      "source": [
        "G_new =(df2[\"group\"]==\"treatment\").mean()*(df2[\"group\"]==\"treatment\").count()\n",
        "G_new=int(G_new)\n",
        "G_new"
      ]
    },
    {
      "cell_type": "markdown",
      "metadata": {
        "id": "hVnFKjAf1rHG"
      },
      "source": [
        "**d.** What is $n_{old}$, the number of individuals in the control group?"
      ]
    },
    {
      "cell_type": "code",
      "execution_count": 134,
      "metadata": {
        "colab": {
          "base_uri": "https://localhost:8080/"
        },
        "id": "x233yp9Q1rHG",
        "outputId": "92f86c49-4807-4fff-a3a7-8003548bd7c7"
      },
      "outputs": [
        {
          "output_type": "execute_result",
          "data": {
            "text/plain": [
              "145274"
            ]
          },
          "metadata": {},
          "execution_count": 134
        }
      ],
      "source": [
        "G_old =(df2[\"group\"]==\"control\").mean()*(df2[\"group\"]==\"control\").count()\n",
        "G_old=int(G_old)\n",
        "G_old"
      ]
    },
    {
      "cell_type": "markdown",
      "metadata": {
        "id": "Zk14A95M1rHH"
      },
      "source": [
        "**e. Simulate Sample for the `treatment` Group**<br> \n",
        "Simulate $n_{new}$ transactions with a conversion rate of $p_{new}$ under the null hypothesis.  <br><br>\n",
        "*Hint*: Use `numpy.random.choice()` method to randomly generate $n_{new}$ number of values. <br>\n",
        "Store these $n_{new}$ 1's and 0's in the `new_page_converted` numpy array.\n"
      ]
    },
    {
      "cell_type": "code",
      "execution_count": 135,
      "metadata": {
        "colab": {
          "base_uri": "https://localhost:8080/"
        },
        "id": "MYdx-g1z1rHH",
        "outputId": "35c114b5-fb67-4168-d3ea-1a2c64141180"
      },
      "outputs": [
        {
          "output_type": "execute_result",
          "data": {
            "text/plain": [
              "0.11907645722937168"
            ]
          },
          "metadata": {},
          "execution_count": 135
        }
      ],
      "source": [
        "# Simulate a Sample for the treatment Group\n",
        "converted_new_page = np.random.choice([1,0],size =G_new, replace =True , p=[P_new,(1-P_new)])\n",
        "converted_new_page.mean()"
      ]
    },
    {
      "cell_type": "markdown",
      "metadata": {
        "id": "vWnhi0BB1rHH"
      },
      "source": [
        "**f. Simulate Sample for the `control` Group** <br>\n",
        "Simulate $n_{old}$ transactions with a conversion rate of $p_{old}$ under the null hypothesis. <br> Store these $n_{old}$ 1's and 0's in the `old_page_converted` numpy array."
      ]
    },
    {
      "cell_type": "code",
      "execution_count": 136,
      "metadata": {
        "colab": {
          "base_uri": "https://localhost:8080/"
        },
        "id": "mK20uwNg1rHH",
        "outputId": "c94b3757-3d09-4fc6-e28e-1b441c0af9fa"
      },
      "outputs": [
        {
          "output_type": "execute_result",
          "data": {
            "text/plain": [
              "0.11844514503627628"
            ]
          },
          "metadata": {},
          "execution_count": 136
        }
      ],
      "source": [
        "# Simulate a Sample for the control Group\n",
        "converted_old_page = np.random.choice([1,0],size =G_old, replace =True , p=[P_old,(1-P_old)])\n",
        "converted_old_page.mean()"
      ]
    },
    {
      "cell_type": "markdown",
      "metadata": {
        "id": "nA2CRkQM1rHH"
      },
      "source": [
        "**g.** Find the difference in the \"converted\" probability $(p{'}_{new}$ - $p{'}_{old})$ for your simulated samples from the parts (e) and (f) above. "
      ]
    },
    {
      "cell_type": "code",
      "execution_count": 137,
      "metadata": {
        "colab": {
          "base_uri": "https://localhost:8080/"
        },
        "id": "A6abbTY51rHH",
        "outputId": "db9af9d2-4b8e-47d6-e3a0-b25622068040"
      },
      "outputs": [
        {
          "output_type": "execute_result",
          "data": {
            "text/plain": [
              "0.0006313121930954096"
            ]
          },
          "metadata": {},
          "execution_count": 137
        }
      ],
      "source": [
        "converted_new_page.mean()-converted_old_page.mean()"
      ]
    },
    {
      "cell_type": "markdown",
      "metadata": {
        "id": "gDSmjoBe1rHH"
      },
      "source": [
        "\n",
        "**h. Sampling distribution** <br>\n",
        "Re-create `new_page_converted` and `old_page_converted` and find the $(p{'}_{new}$ - $p{'}_{old})$ value 10,000 times using the same simulation process you used in parts (a) through (g) above. \n",
        "\n",
        "<br>\n",
        "Store all  $(p{'}_{new}$ - $p{'}_{old})$  values in a NumPy array called `p_diffs`."
      ]
    },
    {
      "cell_type": "code",
      "execution_count": 138,
      "metadata": {
        "colab": {
          "base_uri": "https://localhost:8080/"
        },
        "id": "LO-0S7H11rHH",
        "outputId": "fa73054b-e7d8-4dcd-bca2-a78c13abc0ae"
      },
      "outputs": [
        {
          "output_type": "execute_result",
          "data": {
            "text/plain": [
              "array([-0.00087619, -0.00041506,  0.00095441, ...,  0.00131243,\n",
              "       -0.00230063,  0.00085141])"
            ]
          },
          "metadata": {},
          "execution_count": 138
        }
      ],
      "source": [
        "# Sampling distribution \n",
        "p_diffs = []\n",
        "for i in range(10000):\n",
        "    converted_new_page = np.random.choice([1,0],size =G_new, replace =True , p=[P_new,(1-P_new)])\n",
        "    converted_old_page = np.random.choice([1,0],size =G_old, replace =True , p=[P_old,(1-P_old)])\n",
        "    diffrence=converted_new_page.mean()-converted_old_page.mean()\n",
        "    p_diffs.append(diffrence)\n",
        "p_diffs=np.array(p_diffs)\n",
        "p_diffs\n"
      ]
    },
    {
      "cell_type": "markdown",
      "metadata": {
        "id": "swAPVXSZ1rHI"
      },
      "source": [
        "**i. Histogram**<br> \n",
        "Plot a histogram of the **p_diffs**.  Does this plot look like what you expected?  Use the matching problem in the classroom to assure you fully understand what was computed here.<br><br>\n",
        "\n",
        "Also, use `plt.axvline()` method to mark the actual difference observed  in the `df2` data (recall `obs_diff`), in the chart.  \n",
        "\n",
        ">**Tip**: Display title, x-label, and y-label in the chart."
      ]
    },
    {
      "cell_type": "code",
      "execution_count": 139,
      "metadata": {
        "colab": {
          "base_uri": "https://localhost:8080/",
          "height": 369
        },
        "id": "7o_Oqjyu1rHI",
        "outputId": "5da1696c-41c0-49dc-8b7c-972f55e57eef"
      },
      "outputs": [
        {
          "output_type": "execute_result",
          "data": {
            "text/plain": [
              "(array([  19.,  147.,  703., 1891., 2829., 2608., 1375.,  373.,   51.,\n",
              "           4.]),\n",
              " array([-0.00437282, -0.00345944, -0.00254607, -0.0016327 , -0.00071932,\n",
              "         0.00019405,  0.00110742,  0.0020208 ,  0.00293417,  0.00384754,\n",
              "         0.00476092]),\n",
              " <a list of 10 Patch objects>)"
            ]
          },
          "metadata": {},
          "execution_count": 139
        },
        {
          "output_type": "display_data",
          "data": {
            "text/plain": [
              "<Figure size 432x288 with 1 Axes>"
            ],
            "image/png": "[encoded data removed]"
          },
          "metadata": {
            "needs_background": "light"
          }
        }
      ],
      "source": [
        "plt.hist(p_diffs,alpha=0.9)\n"
      ]
    },
    {
      "cell_type": "markdown",
      "metadata": {
        "id": "BI6QdqaY1rHI"
      },
      "source": [
        "**j.** What proportion of the **p_diffs** are greater than the actual difference observed in the `df2` data?"
      ]
    },
    {
      "cell_type": "code",
      "execution_count": 140,
      "metadata": {
        "colab": {
          "base_uri": "https://localhost:8080/"
        },
        "id": "0nqZ0iqg1rHI",
        "outputId": "882635cb-2703-4739-bbc9-666e6b3d9c08"
      },
      "outputs": [
        {
          "output_type": "execute_result",
          "data": {
            "text/plain": [
              "0.9069"
            ]
          },
          "metadata": {},
          "execution_count": 140
        }
      ],
      "source": [
        "null_values =np.random.normal(0,p_diffs.std(),p_diffs.size)\n",
        "P_value=(null_values>obs_diff).mean()\n",
        "P_value"
      ]
    },
    {
      "cell_type": "markdown",
      "metadata": {
        "id": "k-Vi5kZV1rHI"
      },
      "source": [
        "**k.** Please explain in words what you have just computed in part **j** above.  \n",
        " - What is this value called in scientific studies?  \n",
        " - What does this value signify in terms of whether or not there is a difference between the new and old pages? *Hint*: Compare the value above with the \"Type I error rate (0.05)\". "
      ]
    },
    {
      "cell_type": "markdown",
      "metadata": {
        "id": "dV-RlmqN1rHI"
      },
      "source": [
        "the p-value of 90% indicates that the actual page ,we fail to reject the null hypothesis.we accept null hypothesis"
      ]
    },
    {
      "cell_type": "markdown",
      "metadata": {
        "id": "oXXVq6qr1rHJ"
      },
      "source": [
        "\n",
        "\n",
        "**l. Using Built-in Methods for Hypothesis Testing**<br>\n",
        "We could also use a built-in to achieve similar results.  Though using the built-in might be easier to code, the above portions are a walkthrough of the ideas that are critical to correctly thinking about statistical significance. \n",
        "\n",
        "Fill in the statements below to calculate the:\n",
        "- `convert_old`: number of conversions with the old_page\n",
        "- `convert_new`: number of conversions with the new_page\n",
        "- `n_old`: number of individuals who were shown the old_page\n",
        "- `n_new`: number of individuals who were shown the new_page\n"
      ]
    },
    {
      "cell_type": "code",
      "execution_count": 141,
      "metadata": {
        "id": "MxrtQhSg1rHJ"
      },
      "outputs": [],
      "source": [
        "import statsmodels.api as sm\n",
        "\n",
        "# number of conversions with the old_page\n",
        "convert_old = (df2.query('group==\"control\"')['converted']==1).sum()\n",
        "\n",
        "# number of conversions with the new_page\n",
        "convert_new = (df2.query('group==\"treatment\"')['converted']==1).sum()\n",
        "\n",
        "# number of individuals who were shown the old_page\n",
        "n_old = df2.query(\"landing_page=='old_page'\").shape[0]\n",
        "\n",
        "# number of individuals who received new_page\n",
        "n_new =  df2.query(\"landing_page=='new_page'\").shape[0]"
      ]
    },
    {
      "cell_type": "markdown",
      "metadata": {
        "id": "Y075uM9p1rHJ"
      },
      "source": [
        "**m.** Now use `sm.stats.proportions_ztest()` to compute your test statistic and p-value.  [Here](https://www.statsmodels.org/stable/generated/statsmodels.stats.proportion.proportions_ztest.html) is a helpful link on using the built in.\n",
        "\n",
        "The syntax is: \n",
        "```bash\n",
        "proportions_ztest(count_array, nobs_array, alternative='larger')\n",
        "```\n",
        "where, \n",
        "- `count_array` = represents the number of \"converted\" for each group\n",
        "- `nobs_array` = represents the total number of observations (rows) in each group\n",
        "- `alternative` = choose one of the values from `[‘two-sided’, ‘smaller’, ‘larger’]` depending upon two-tailed, left-tailed, or right-tailed respectively. \n",
        ">**Hint**: <br>\n",
        "It's a two-tailed if you defined $H_1$ as $(p_{new} = p_{old})$. <br>\n",
        "It's a left-tailed if you defined $H_1$ as $(p_{new} < p_{old})$. <br>\n",
        "It's a right-tailed if you defined $H_1$ as $(p_{new} > p_{old})$. \n",
        "\n",
        "The built-in function above will return the z_score, p_value. \n",
        "\n",
        "---\n",
        "### About the two-sample z-test\n",
        "Recall that you have plotted a distribution `p_diffs` representing the\n",
        "difference in the \"converted\" probability  $(p{'}_{new}-p{'}_{old})$  for your two simulated samples 10,000 times. \n",
        "\n",
        "Another way for comparing the mean of two independent and normal distribution is a **two-sample z-test**. You can perform the Z-test to calculate the Z_score, as shown in the equation below:\n",
        "\n",
        "$$\n",
        "Z_{score} = \\frac{ (p{'}_{new}-p{'}_{old}) - (p_{new}  -  p_{old})}{ \\sqrt{ \\frac{\\sigma^{2}_{new} }{n_{new}} + \\frac{\\sigma^{2}_{old} }{n_{old}}  } }\n",
        "$$\n",
        "\n",
        "where,\n",
        "- $p{'}$ is the \"converted\" success rate in the sample\n",
        "- $p_{new}$ and $p_{old}$ are the \"converted\" success rate for the two groups in the population. \n",
        "- $\\sigma_{new}$ and $\\sigma_{new}$ are the standard deviation for the two groups in the population. \n",
        "- $n_{new}$ and $n_{old}$ represent the size of the two groups or samples (it's same in our case)\n",
        "\n",
        "\n",
        ">Z-test is performed when the sample size is large, and the population variance is known. The z-score represents the distance between the two \"converted\" success rates in terms of the standard error. \n",
        "\n",
        "Next step is to make a decision to reject or fail to reject the null hypothesis based on comparing these two values: \n",
        "- $Z_{score}$\n",
        "- $Z_{\\alpha}$ or $Z_{0.05}$, also known as critical value at 95% confidence interval.  $Z_{0.05}$ is 1.645 for one-tailed tests,  and 1.960 for two-tailed test. You can determine the $Z_{\\alpha}$ from the z-table manually. \n",
        "\n",
        "Decide if your hypothesis is either a two-tailed, left-tailed, or right-tailed test. Accordingly, reject OR fail to reject the  null based on the comparison between $Z_{score}$ and $Z_{\\alpha}$. We determine whether or not the $Z_{score}$ lies in the \"rejection region\" in the distribution. In other words, a \"rejection region\" is an interval where the null hypothesis is rejected iff the $Z_{score}$ lies in that region.\n",
        "\n",
        ">Hint:<br>\n",
        "For a right-tailed test, reject null if $Z_{score}$ > $Z_{\\alpha}$. <br>\n",
        "For a left-tailed test, reject null if $Z_{score}$ < $Z_{\\alpha}$. \n",
        "\n",
        "\n",
        "\n",
        "\n",
        "Reference: \n",
        "- Example 9.1.2 on this [page](https://stats.libretexts.org/Bookshelves/Introductory_Statistics/Book%3A_Introductory_Statistics_(Shafer_and_Zhang)/09%3A_Two-Sample_Problems/9.01%3A_Comparison_of_Two_Population_Means-_Large_Independent_Samples), courtesy www.stats.libretexts.org\n",
        "\n",
        "---\n",
        "\n",
        ">**Tip**: You don't have to dive deeper into z-test for this exercise. **Try having an overview of what does z-score signify in general.** "
      ]
    },
    {
      "cell_type": "code",
      "execution_count": 154,
      "metadata": {
        "colab": {
          "base_uri": "https://localhost:8080/"
        },
        "id": "0ABbXIS11rHK",
        "outputId": "15d4b19b-7721-4a01-f265-514f1e87cdb2"
      },
      "outputs": [
        {
          "output_type": "stream",
          "name": "stdout",
          "text": [
            "1.3109241984234394    0.9050583127590245\n"
          ]
        }
      ],
      "source": [
        "import statsmodels.api as sm\n",
        "# ToDo: Complete the sm.stats.proportions_ztest() method arguments\n",
        "z_score, p_value = sm.stats.proportions_ztest([convert_old,convert_new],[n_old,n_new],alternative=\"smaller\")\n",
        "\n",
        "print(z_score,\"  \", p_value)"
      ]
    },
    {
      "cell_type": "markdown",
      "metadata": {
        "id": "HF6eY8yp1rHK"
      },
      "source": [
        "**n.** What do the z-score and p-value you computed in the previous question mean for the conversion rates of the old and new pages?  Do they agree with the findings in parts **j.** and **k.**?<br><br>\n",
        "\n",
        ">**Tip**: Notice whether the p-value is similar to the one computed earlier. Accordingly, can you reject/fail to reject the null hypothesis? It is important to correctly interpret the test statistic and p-value."
      ]
    },
    {
      "cell_type": "markdown",
      "metadata": {
        "id": "1KAhc2w71rHK"
      },
      "source": [
        "we accept null hypothesis test because old page is equal or greater tha page new rate"
      ]
    },
    {
      "cell_type": "markdown",
      "metadata": {
        "id": "RYaGwWAA1rHK"
      },
      "source": [
        "<a id='regression'></a>\n",
        "### Part III - A regression approach\n",
        "\n",
        "### ToDo 3.1 \n",
        "In this final part, you will see that the result you achieved in the A/B test in Part II above can also be achieved by performing regression.<br><br> \n",
        "\n",
        "**a.** Since each row in the `df2` data is either a conversion or no conversion, what type of regression should you be performing in this case?"
      ]
    },
    {
      "cell_type": "markdown",
      "metadata": {
        "id": "UDGU70s81rHK"
      },
      "source": [
        "there is two classess so i will use logistic regression"
      ]
    },
    {
      "cell_type": "markdown",
      "metadata": {
        "id": "whlNKakT1rHL"
      },
      "source": [
        "**b.** The goal is to use **statsmodels** library to fit the regression model you specified in part **a.** above to see if there is a significant difference in conversion based on the page-type a customer receives. However, you first need to create the following two columns in the `df2` dataframe:\n",
        " 1. `intercept` - It should be `1` in the entire column. \n",
        " 2. `ab_page` - It's a dummy variable column, having a value `1` when an individual receives the **treatment**, otherwise `0`.  "
      ]
    },
    {
      "cell_type": "code",
      "execution_count": 143,
      "metadata": {
        "colab": {
          "base_uri": "https://localhost:8080/",
          "height": 206
        },
        "id": "O0XdoWGy1rHL",
        "outputId": "17975861-e23b-439d-f279-e9f80ed724df"
      },
      "outputs": [
        {
          "output_type": "execute_result",
          "data": {
            "text/plain": [
              "   user_id                   timestamp      group landing_page  converted  \\\n",
              "0   851104  2017-01-21 22:11:48.556739    control     old_page          0   \n",
              "1   804228  2017-01-12 08:01:45.159739    control     old_page          0   \n",
              "2   661590  2017-01-11 16:55:06.154213  treatment     new_page          0   \n",
              "3   853541  2017-01-08 18:28:03.143765  treatment     new_page          0   \n",
              "4   864975  2017-01-21 01:52:26.210827    control     old_page          1   \n",
              "\n",
              "   intercept  control  ab_page  \n",
              "0          1        1        0  \n",
              "1          1        1        0  \n",
              "2          1        0        1  \n",
              "3          1        0        1  \n",
              "4          1        1        0  "
            ],
            "text/html": [
              "\n",
              "  <div id=\"df-ecbeda80-2ca2-41b6-a0af-757fb03d7248\">\n",
              "    <div class=\"colab-df-container\">\n",
              "      <div>\n",
              "<style scoped>\n",
              "    .dataframe tbody tr th:only-of-type {\n",
              "        vertical-align: middle;\n",
              "    }\n",
              "\n",
              "    .dataframe tbody tr th {\n",
              "        vertical-align: top;\n",
              "    }\n",
              "\n",
              "    .dataframe thead th {\n",
              "        text-align: right;\n",
              "    }\n",
              "</style>\n",
              "<table border=\"1\" class=\"dataframe\">\n",
              "  <thead>\n",
              "    <tr style=\"text-align: right;\">\n",
              "      <th></th>\n",
              "      <th>user_id</th>\n",
              "      <th>timestamp</th>\n",
              "      <th>group</th>\n",
              "      <th>landing_page</th>\n",
              "      <th>converted</th>\n",
              "      <th>intercept</th>\n",
              "      <th>control</th>\n",
              "      <th>ab_page</th>\n",
              "    </tr>\n",
              "  </thead>\n",
              "  <tbody>\n",
              "    <tr>\n",
              "      <th>0</th>\n",
              "      <td>851104</td>\n",
              "      <td>2017-01-21 22:11:48.556739</td>\n",
              "      <td>control</td>\n",
              "      <td>old_page</td>\n",
              "      <td>0</td>\n",
              "      <td>1</td>\n",
              "      <td>1</td>\n",
              "      <td>0</td>\n",
              "    </tr>\n",
              "    <tr>\n",
              "      <th>1</th>\n",
              "      <td>804228</td>\n",
              "      <td>2017-01-12 08:01:45.159739</td>\n",
              "      <td>control</td>\n",
              "      <td>old_page</td>\n",
              "      <td>0</td>\n",
              "      <td>1</td>\n",
              "      <td>1</td>\n",
              "      <td>0</td>\n",
              "    </tr>\n",
              "    <tr>\n",
              "      <th>2</th>\n",
              "      <td>661590</td>\n",
              "      <td>2017-01-11 16:55:06.154213</td>\n",
              "      <td>treatment</td>\n",
              "      <td>new_page</td>\n",
              "      <td>0</td>\n",
              "      <td>1</td>\n",
              "      <td>0</td>\n",
              "      <td>1</td>\n",
              "    </tr>\n",
              "    <tr>\n",
              "      <th>3</th>\n",
              "      <td>853541</td>\n",
              "      <td>2017-01-08 18:28:03.143765</td>\n",
              "      <td>treatment</td>\n",
              "      <td>new_page</td>\n",
              "      <td>0</td>\n",
              "      <td>1</td>\n",
              "      <td>0</td>\n",
              "      <td>1</td>\n",
              "    </tr>\n",
              "    <tr>\n",
              "      <th>4</th>\n",
              "      <td>864975</td>\n",
              "      <td>2017-01-21 01:52:26.210827</td>\n",
              "      <td>control</td>\n",
              "      <td>old_page</td>\n",
              "      <td>1</td>\n",
              "      <td>1</td>\n",
              "      <td>1</td>\n",
              "      <td>0</td>\n",
              "    </tr>\n",
              "  </tbody>\n",
              "</table>\n",
              "</div>\n",
              "      <button class=\"colab-df-convert\" onclick=\"convertToInteractive('df-ecbeda80-2ca2-41b6-a0af-757fb03d7248')\"\n",
              "              title=\"Convert this dataframe to an interactive table.\"\n",
              "              style=\"display:none;\">\n",
              "        \n",
              "  <svg xmlns=\"http://www.w3.org/2000/svg\" height=\"24px\"viewBox=\"0 0 24 24\"\n",
              "       width=\"24px\">\n",
              "    <path d=\"M0 0h24v24H0V0z\" fill=\"none\"/>\n",
              "    <path d=\"M18.56 5.44l.94 2.06.94-2.06 2.06-.94-2.06-.94-.94-2.06-.94 2.06-2.06.94zm-11 1L8.5 8.5l.94-2.06 2.06-.94-2.06-.94L8.5 2.5l-.94 2.06-2.06.94zm10 10l.94 2.06.94-2.06 2.06-.94-2.06-.94-.94-2.06-.94 2.06-2.06.94z\"/><path d=\"M17.41 7.96l-1.37-1.37c-.4-.4-.92-.59-1.43-.59-.52 0-1.04.2-1.43.59L10.3 9.45l-7.72 7.72c-.78.78-.78 2.05 0 2.83L4 21.41c.39.39.9.59 1.41.59.51 0 1.02-.2 1.41-.59l7.78-7.78 2.81-2.81c.8-.78.8-2.07 0-2.86zM5.41 20L4 18.59l7.72-7.72 1.47 1.35L5.41 20z\"/>\n",
              "  </svg>\n",
              "      </button>\n",
              "      \n",
              "  <style>\n",
              "    .colab-df-container {\n",
              "      display:flex;\n",
              "      flex-wrap:wrap;\n",
              "      gap: 12px;\n",
              "    }\n",
              "\n",
              "    .colab-df-convert {\n",
              "      background-color: #E8F0FE;\n",
              "      border: none;\n",
              "      border-radius: 50%;\n",
              "      cursor: pointer;\n",
              "      display: none;\n",
              "      fill: #1967D2;\n",
              "      height: 32px;\n",
              "      padding: 0 0 0 0;\n",
              "      width: 32px;\n",
              "    }\n",
              "\n",
              "    .colab-df-convert:hover {\n",
              "      background-color: #E2EBFA;\n",
              "      box-shadow: 0px 1px 2px rgba(60, 64, 67, 0.3), 0px 1px 3px 1px rgba(60, 64, 67, 0.15);\n",
              "      fill: #174EA6;\n",
              "    }\n",
              "\n",
              "    [theme=dark] .colab-df-convert {\n",
              "      background-color: #3B4455;\n",
              "      fill: #D2E3FC;\n",
              "    }\n",
              "\n",
              "    [theme=dark] .colab-df-convert:hover {\n",
              "      background-color: #434B5C;\n",
              "      box-shadow: 0px 1px 3px 1px rgba(0, 0, 0, 0.15);\n",
              "      filter: drop-shadow(0px 1px 2px rgba(0, 0, 0, 0.3));\n",
              "      fill: #FFFFFF;\n",
              "    }\n",
              "  </style>\n",
              "\n",
              "      <script>\n",
              "        const buttonEl =\n",
              "          document.querySelector('#df-ecbeda80-2ca2-41b6-a0af-757fb03d7248 button.colab-df-convert');\n",
              "        buttonEl.style.display =\n",
              "          google.colab.kernel.accessAllowed ? 'block' : 'none';\n",
              "\n",
              "        async function convertToInteractive(key) {\n",
              "          const element = document.querySelector('#df-ecbeda80-2ca2-41b6-a0af-757fb03d7248');\n",
              "          const dataTable =\n",
              "            await google.colab.kernel.invokeFunction('convertToInteractive',\n",
              "                                                     [key], {});\n",
              "          if (!dataTable) return;\n",
              "\n",
              "          const docLinkHtml = 'Like what you see? Visit the ' +\n",
              "            '<a target=\"_blank\" href=https://colab.research.google.com/notebooks/data_table.ipynb>data table notebook</a>'\n",
              "            + ' to learn more about interactive tables.';\n",
              "          element.innerHTML = '';\n",
              "          dataTable['output_type'] = 'display_data';\n",
              "          await google.colab.output.renderOutput(dataTable, element);\n",
              "          const docLink = document.createElement('div');\n",
              "          docLink.innerHTML = docLinkHtml;\n",
              "          element.appendChild(docLink);\n",
              "        }\n",
              "      </script>\n",
              "    </div>\n",
              "  </div>\n",
              "  "
            ]
          },
          "metadata": {},
          "execution_count": 143
        }
      ],
      "source": [
        "data =df2.copy()\n",
        "data[\"intercept\"]=1\n",
        "data = data.join(pd.get_dummies(data[\"group\"]))\n",
        "data.rename(columns={\"treatment\":\"ab_page\"},inplace=True)\n",
        "data.head()"
      ]
    },
    {
      "cell_type": "markdown",
      "metadata": {
        "id": "6bMhfAb61rHL"
      },
      "source": [
        "**c.** Use **statsmodels** to instantiate your regression model on the two columns you created in part (b). above, then fit the model to predict whether or not an individual converts. \n"
      ]
    },
    {
      "cell_type": "code",
      "execution_count": 144,
      "metadata": {
        "colab": {
          "base_uri": "https://localhost:8080/"
        },
        "id": "vQjFl86_1rHL",
        "outputId": "481523e8-baab-472d-f828-23d70445e26e"
      },
      "outputs": [
        {
          "output_type": "stream",
          "name": "stdout",
          "text": [
            "Optimization terminated successfully.\n",
            "         Current function value: 0.366118\n",
            "         Iterations 6\n"
          ]
        }
      ],
      "source": [
        "import statsmodels.api as sm\n",
        "data = data[pd.notnull(data['converted'])]\n",
        "data = data[pd.notnull(data['intercept'])]\n",
        "data = data[pd.notnull(data['ab_page'])]\n",
        "log = sm.Logit(data[\"converted\"], data[[\"intercept\", \"ab_page\"]])\n",
        "results = log.fit()\n"
      ]
    },
    {
      "cell_type": "markdown",
      "metadata": {
        "id": "VCQV3LST1rHL"
      },
      "source": [
        "**d.** Provide the summary of your model below, and use it as necessary to answer the following questions."
      ]
    },
    {
      "cell_type": "code",
      "execution_count": 145,
      "metadata": {
        "colab": {
          "base_uri": "https://localhost:8080/",
          "height": 247
        },
        "id": "AXGa0VEC1rHL",
        "outputId": "e8cdffc8-519f-42c5-85b4-a9ad5c5a732d"
      },
      "outputs": [
        {
          "output_type": "execute_result",
          "data": {
            "text/plain": [
              "<class 'statsmodels.iolib.summary.Summary'>\n",
              "\"\"\"\n",
              "                           Logit Regression Results                           \n",
              "==============================================================================\n",
              "Dep. Variable:              converted   No. Observations:               290584\n",
              "Model:                          Logit   Df Residuals:                   290582\n",
              "Method:                           MLE   Df Model:                            1\n",
              "Date:                Sat, 31 Dec 2022   Pseudo R-squ.:               8.077e-06\n",
              "Time:                        00:57:36   Log-Likelihood:            -1.0639e+05\n",
              "converged:                       True   LL-Null:                   -1.0639e+05\n",
              "Covariance Type:            nonrobust   LLR p-value:                    0.1899\n",
              "==============================================================================\n",
              "                 coef    std err          z      P>|z|      [0.025      0.975]\n",
              "------------------------------------------------------------------------------\n",
              "intercept     -1.9888      0.008   -246.669      0.000      -2.005      -1.973\n",
              "ab_page       -0.0150      0.011     -1.311      0.190      -0.037       0.007\n",
              "==============================================================================\n",
              "\"\"\""
            ],
            "text/html": [
              "<table class=\"simpletable\">\n",
              "<caption>Logit Regression Results</caption>\n",
              "<tr>\n",
              "  <th>Dep. Variable:</th>       <td>converted</td>    <th>  No. Observations:  </th>   <td>290584</td>   \n",
              "</tr>\n",
              "<tr>\n",
              "  <th>Model:</th>                 <td>Logit</td>      <th>  Df Residuals:      </th>   <td>290582</td>   \n",
              "</tr>\n",
              "<tr>\n",
              "  <th>Method:</th>                 <td>MLE</td>       <th>  Df Model:          </th>   <td>     1</td>   \n",
              "</tr>\n",
              "<tr>\n",
              "  <th>Date:</th>            <td>Sat, 31 Dec 2022</td> <th>  Pseudo R-squ.:     </th>  <td>8.077e-06</td> \n",
              "</tr>\n",
              "<tr>\n",
              "  <th>Time:</th>                <td>00:57:36</td>     <th>  Log-Likelihood:    </th> <td>-1.0639e+05</td>\n",
              "</tr>\n",
              "<tr>\n",
              "  <th>converged:</th>             <td>True</td>       <th>  LL-Null:           </th> <td>-1.0639e+05</td>\n",
              "</tr>\n",
              "<tr>\n",
              "  <th>Covariance Type:</th>     <td>nonrobust</td>    <th>  LLR p-value:       </th>   <td>0.1899</td>   \n",
              "</tr>\n",
              "</table>\n",
              "<table class=\"simpletable\">\n",
              "<tr>\n",
              "      <td></td>         <th>coef</th>     <th>std err</th>      <th>z</th>      <th>P>|z|</th>  <th>[0.025</th>    <th>0.975]</th>  \n",
              "</tr>\n",
              "<tr>\n",
              "  <th>intercept</th> <td>   -1.9888</td> <td>    0.008</td> <td> -246.669</td> <td> 0.000</td> <td>   -2.005</td> <td>   -1.973</td>\n",
              "</tr>\n",
              "<tr>\n",
              "  <th>ab_page</th>   <td>   -0.0150</td> <td>    0.011</td> <td>   -1.311</td> <td> 0.190</td> <td>   -0.037</td> <td>    0.007</td>\n",
              "</tr>\n",
              "</table>"
            ]
          },
          "metadata": {},
          "execution_count": 145
        }
      ],
      "source": [
        "results.summary()"
      ]
    },
    {
      "cell_type": "markdown",
      "metadata": {
        "id": "DDsHEbv81rHL"
      },
      "source": [
        "**e.** What is the p-value associated with **ab_page**? Why does it differ from the value you found in **Part II**?<br><br>  \n",
        "\n",
        "**Hints**: \n",
        "- What are the null and alternative hypotheses associated with your regression model, and how do they compare to the null and alternative hypotheses in **Part II**? \n",
        "- You may comment on if these hypothesis (Part II vs. Part III) are one-sided or two-sided. \n",
        "- You may also compare the current p-value with the Type I error rate (0.05).\n"
      ]
    },
    {
      "cell_type": "markdown",
      "metadata": {
        "id": "X4u_EFmO1rHL"
      },
      "source": [
        "there is no relation bettween conversion rate and ab_page"
      ]
    },
    {
      "cell_type": "markdown",
      "metadata": {
        "id": "Me0o2lQk1rHL"
      },
      "source": [
        "**f.** Now, you are considering other things that might influence whether or not an individual converts.  Discuss why it is a good idea to consider other factors to add into your regression model.  Are there any disadvantages to adding additional terms into your regression model?"
      ]
    },
    {
      "cell_type": "markdown",
      "metadata": {
        "id": "t8oUovO21rHM"
      },
      "source": [
        "Disavantages:increasing complexity of possiple lead to build model more deception"
      ]
    },
    {
      "cell_type": "markdown",
      "metadata": {
        "id": "5yQmDghZ1rHM"
      },
      "source": [
        "**g. Adding countries**<br> \n",
        "Now along with testing if the conversion rate changes for different pages, also add an effect based on which country a user lives in. \n",
        "\n",
        "1. You will need to read in the **countries.csv** dataset and merge together your `df2` datasets on the appropriate rows. You call the resulting dataframe `df_merged`. [Here](https://pandas.pydata.org/pandas-docs/stable/reference/api/pandas.DataFrame.join.html) are the docs for joining tables. \n",
        "\n",
        "2. Does it appear that country had an impact on conversion?  To answer this question, consider the three unique values, `['UK', 'US', 'CA']`, in the `country` column. Create dummy variables for these country columns. \n",
        ">**Hint:** Use `pandas.get_dummies()` to create dummy variables. **You will utilize two columns for the three dummy variables.** \n",
        "\n",
        " Provide the statistical output as well as a written response to answer this question."
      ]
    },
    {
      "cell_type": "code",
      "execution_count": 146,
      "metadata": {
        "colab": {
          "base_uri": "https://localhost:8080/",
          "height": 206
        },
        "id": "p6N5NtKC1rHM",
        "outputId": "8ec2afd3-08d3-4893-b09d-c6bbb402c410"
      },
      "outputs": [
        {
          "output_type": "execute_result",
          "data": {
            "text/plain": [
              "   user_id country\n",
              "0   834778      UK\n",
              "1   928468      US\n",
              "2   822059      UK\n",
              "3   711597      UK\n",
              "4   710616      UK"
            ],
            "text/html": [
              "\n",
              "  <div id=\"df-b3660ab3-1c2d-4059-b039-5bd1bc5dcfa1\">\n",
              "    <div class=\"colab-df-container\">\n",
              "      <div>\n",
              "<style scoped>\n",
              "    .dataframe tbody tr th:only-of-type {\n",
              "        vertical-align: middle;\n",
              "    }\n",
              "\n",
              "    .dataframe tbody tr th {\n",
              "        vertical-align: top;\n",
              "    }\n",
              "\n",
              "    .dataframe thead th {\n",
              "        text-align: right;\n",
              "    }\n",
              "</style>\n",
              "<table border=\"1\" class=\"dataframe\">\n",
              "  <thead>\n",
              "    <tr style=\"text-align: right;\">\n",
              "      <th></th>\n",
              "      <th>user_id</th>\n",
              "      <th>country</th>\n",
              "    </tr>\n",
              "  </thead>\n",
              "  <tbody>\n",
              "    <tr>\n",
              "      <th>0</th>\n",
              "      <td>834778</td>\n",
              "      <td>UK</td>\n",
              "    </tr>\n",
              "    <tr>\n",
              "      <th>1</th>\n",
              "      <td>928468</td>\n",
              "      <td>US</td>\n",
              "    </tr>\n",
              "    <tr>\n",
              "      <th>2</th>\n",
              "      <td>822059</td>\n",
              "      <td>UK</td>\n",
              "    </tr>\n",
              "    <tr>\n",
              "      <th>3</th>\n",
              "      <td>711597</td>\n",
              "      <td>UK</td>\n",
              "    </tr>\n",
              "    <tr>\n",
              "      <th>4</th>\n",
              "      <td>710616</td>\n",
              "      <td>UK</td>\n",
              "    </tr>\n",
              "  </tbody>\n",
              "</table>\n",
              "</div>\n",
              "      <button class=\"colab-df-convert\" onclick=\"convertToInteractive('df-b3660ab3-1c2d-4059-b039-5bd1bc5dcfa1')\"\n",
              "              title=\"Convert this dataframe to an interactive table.\"\n",
              "              style=\"display:none;\">\n",
              "        \n",
              "  <svg xmlns=\"http://www.w3.org/2000/svg\" height=\"24px\"viewBox=\"0 0 24 24\"\n",
              "       width=\"24px\">\n",
              "    <path d=\"M0 0h24v24H0V0z\" fill=\"none\"/>\n",
              "    <path d=\"M18.56 5.44l.94 2.06.94-2.06 2.06-.94-2.06-.94-.94-2.06-.94 2.06-2.06.94zm-11 1L8.5 8.5l.94-2.06 2.06-.94-2.06-.94L8.5 2.5l-.94 2.06-2.06.94zm10 10l.94 2.06.94-2.06 2.06-.94-2.06-.94-.94-2.06-.94 2.06-2.06.94z\"/><path d=\"M17.41 7.96l-1.37-1.37c-.4-.4-.92-.59-1.43-.59-.52 0-1.04.2-1.43.59L10.3 9.45l-7.72 7.72c-.78.78-.78 2.05 0 2.83L4 21.41c.39.39.9.59 1.41.59.51 0 1.02-.2 1.41-.59l7.78-7.78 2.81-2.81c.8-.78.8-2.07 0-2.86zM5.41 20L4 18.59l7.72-7.72 1.47 1.35L5.41 20z\"/>\n",
              "  </svg>\n",
              "      </button>\n",
              "      \n",
              "  <style>\n",
              "    .colab-df-container {\n",
              "      display:flex;\n",
              "      flex-wrap:wrap;\n",
              "      gap: 12px;\n",
              "    }\n",
              "\n",
              "    .colab-df-convert {\n",
              "      background-color: #E8F0FE;\n",
              "      border: none;\n",
              "      border-radius: 50%;\n",
              "      cursor: pointer;\n",
              "      display: none;\n",
              "      fill: #1967D2;\n",
              "      height: 32px;\n",
              "      padding: 0 0 0 0;\n",
              "      width: 32px;\n",
              "    }\n",
              "\n",
              "    .colab-df-convert:hover {\n",
              "      background-color: #E2EBFA;\n",
              "      box-shadow: 0px 1px 2px rgba(60, 64, 67, 0.3), 0px 1px 3px 1px rgba(60, 64, 67, 0.15);\n",
              "      fill: #174EA6;\n",
              "    }\n",
              "\n",
              "    [theme=dark] .colab-df-convert {\n",
              "      background-color: #3B4455;\n",
              "      fill: #D2E3FC;\n",
              "    }\n",
              "\n",
              "    [theme=dark] .colab-df-convert:hover {\n",
              "      background-color: #434B5C;\n",
              "      box-shadow: 0px 1px 3px 1px rgba(0, 0, 0, 0.15);\n",
              "      filter: drop-shadow(0px 1px 2px rgba(0, 0, 0, 0.3));\n",
              "      fill: #FFFFFF;\n",
              "    }\n",
              "  </style>\n",
              "\n",
              "      <script>\n",
              "        const buttonEl =\n",
              "          document.querySelector('#df-b3660ab3-1c2d-4059-b039-5bd1bc5dcfa1 button.colab-df-convert');\n",
              "        buttonEl.style.display =\n",
              "          google.colab.kernel.accessAllowed ? 'block' : 'none';\n",
              "\n",
              "        async function convertToInteractive(key) {\n",
              "          const element = document.querySelector('#df-b3660ab3-1c2d-4059-b039-5bd1bc5dcfa1');\n",
              "          const dataTable =\n",
              "            await google.colab.kernel.invokeFunction('convertToInteractive',\n",
              "                                                     [key], {});\n",
              "          if (!dataTable) return;\n",
              "\n",
              "          const docLinkHtml = 'Like what you see? Visit the ' +\n",
              "            '<a target=\"_blank\" href=https://colab.research.google.com/notebooks/data_table.ipynb>data table notebook</a>'\n",
              "            + ' to learn more about interactive tables.';\n",
              "          element.innerHTML = '';\n",
              "          dataTable['output_type'] = 'display_data';\n",
              "          await google.colab.output.renderOutput(dataTable, element);\n",
              "          const docLink = document.createElement('div');\n",
              "          docLink.innerHTML = docLinkHtml;\n",
              "          element.appendChild(docLink);\n",
              "        }\n",
              "      </script>\n",
              "    </div>\n",
              "  </div>\n",
              "  "
            ]
          },
          "metadata": {},
          "execution_count": 146
        }
      ],
      "source": [
        "# Read the countries.csv\n",
        "new_data=pd.read_csv(\"countries.csv\")\n",
        "new_data.head()"
      ]
    },
    {
      "cell_type": "code",
      "execution_count": 147,
      "metadata": {
        "colab": {
          "base_uri": "https://localhost:8080/",
          "height": 237
        },
        "id": "L3ItEWqu1rHM",
        "outputId": "f11d0f1b-a455-4585-961f-a4aa73c2b1b9"
      },
      "outputs": [
        {
          "output_type": "execute_result",
          "data": {
            "text/plain": [
              "        country                   timestamp      group landing_page  \\\n",
              "user_id                                                               \n",
              "834778       UK  2017-01-14 23:08:43.304998    control     old_page   \n",
              "928468       US  2017-01-23 14:44:16.387854  treatment     new_page   \n",
              "822059       UK  2017-01-16 14:04:14.719771  treatment     new_page   \n",
              "711597       UK  2017-01-22 03:14:24.763511    control     old_page   \n",
              "710616       UK  2017-01-16 13:14:44.000513  treatment     new_page   \n",
              "\n",
              "         converted  intercept  control  ab_page  \n",
              "user_id                                          \n",
              "834778           0          1        1        0  \n",
              "928468           0          1        0        1  \n",
              "822059           1          1        0        1  \n",
              "711597           0          1        1        0  \n",
              "710616           0          1        0        1  "
            ],
            "text/html": [
              "\n",
              "  <div id=\"df-d4203093-22fb-4cd0-924a-669b9cc78bbd\">\n",
              "    <div class=\"colab-df-container\">\n",
              "      <div>\n",
              "<style scoped>\n",
              "    .dataframe tbody tr th:only-of-type {\n",
              "        vertical-align: middle;\n",
              "    }\n",
              "\n",
              "    .dataframe tbody tr th {\n",
              "        vertical-align: top;\n",
              "    }\n",
              "\n",
              "    .dataframe thead th {\n",
              "        text-align: right;\n",
              "    }\n",
              "</style>\n",
              "<table border=\"1\" class=\"dataframe\">\n",
              "  <thead>\n",
              "    <tr style=\"text-align: right;\">\n",
              "      <th></th>\n",
              "      <th>country</th>\n",
              "      <th>timestamp</th>\n",
              "      <th>group</th>\n",
              "      <th>landing_page</th>\n",
              "      <th>converted</th>\n",
              "      <th>intercept</th>\n",
              "      <th>control</th>\n",
              "      <th>ab_page</th>\n",
              "    </tr>\n",
              "    <tr>\n",
              "      <th>user_id</th>\n",
              "      <th></th>\n",
              "      <th></th>\n",
              "      <th></th>\n",
              "      <th></th>\n",
              "      <th></th>\n",
              "      <th></th>\n",
              "      <th></th>\n",
              "      <th></th>\n",
              "    </tr>\n",
              "  </thead>\n",
              "  <tbody>\n",
              "    <tr>\n",
              "      <th>834778</th>\n",
              "      <td>UK</td>\n",
              "      <td>2017-01-14 23:08:43.304998</td>\n",
              "      <td>control</td>\n",
              "      <td>old_page</td>\n",
              "      <td>0</td>\n",
              "      <td>1</td>\n",
              "      <td>1</td>\n",
              "      <td>0</td>\n",
              "    </tr>\n",
              "    <tr>\n",
              "      <th>928468</th>\n",
              "      <td>US</td>\n",
              "      <td>2017-01-23 14:44:16.387854</td>\n",
              "      <td>treatment</td>\n",
              "      <td>new_page</td>\n",
              "      <td>0</td>\n",
              "      <td>1</td>\n",
              "      <td>0</td>\n",
              "      <td>1</td>\n",
              "    </tr>\n",
              "    <tr>\n",
              "      <th>822059</th>\n",
              "      <td>UK</td>\n",
              "      <td>2017-01-16 14:04:14.719771</td>\n",
              "      <td>treatment</td>\n",
              "      <td>new_page</td>\n",
              "      <td>1</td>\n",
              "      <td>1</td>\n",
              "      <td>0</td>\n",
              "      <td>1</td>\n",
              "    </tr>\n",
              "    <tr>\n",
              "      <th>711597</th>\n",
              "      <td>UK</td>\n",
              "      <td>2017-01-22 03:14:24.763511</td>\n",
              "      <td>control</td>\n",
              "      <td>old_page</td>\n",
              "      <td>0</td>\n",
              "      <td>1</td>\n",
              "      <td>1</td>\n",
              "      <td>0</td>\n",
              "    </tr>\n",
              "    <tr>\n",
              "      <th>710616</th>\n",
              "      <td>UK</td>\n",
              "      <td>2017-01-16 13:14:44.000513</td>\n",
              "      <td>treatment</td>\n",
              "      <td>new_page</td>\n",
              "      <td>0</td>\n",
              "      <td>1</td>\n",
              "      <td>0</td>\n",
              "      <td>1</td>\n",
              "    </tr>\n",
              "  </tbody>\n",
              "</table>\n",
              "</div>\n",
              "      <button class=\"colab-df-convert\" onclick=\"convertToInteractive('df-d4203093-22fb-4cd0-924a-669b9cc78bbd')\"\n",
              "              title=\"Convert this dataframe to an interactive table.\"\n",
              "              style=\"display:none;\">\n",
              "        \n",
              "  <svg xmlns=\"http://www.w3.org/2000/svg\" height=\"24px\"viewBox=\"0 0 24 24\"\n",
              "       width=\"24px\">\n",
              "    <path d=\"M0 0h24v24H0V0z\" fill=\"none\"/>\n",
              "    <path d=\"M18.56 5.44l.94 2.06.94-2.06 2.06-.94-2.06-.94-.94-2.06-.94 2.06-2.06.94zm-11 1L8.5 8.5l.94-2.06 2.06-.94-2.06-.94L8.5 2.5l-.94 2.06-2.06.94zm10 10l.94 2.06.94-2.06 2.06-.94-2.06-.94-.94-2.06-.94 2.06-2.06.94z\"/><path d=\"M17.41 7.96l-1.37-1.37c-.4-.4-.92-.59-1.43-.59-.52 0-1.04.2-1.43.59L10.3 9.45l-7.72 7.72c-.78.78-.78 2.05 0 2.83L4 21.41c.39.39.9.59 1.41.59.51 0 1.02-.2 1.41-.59l7.78-7.78 2.81-2.81c.8-.78.8-2.07 0-2.86zM5.41 20L4 18.59l7.72-7.72 1.47 1.35L5.41 20z\"/>\n",
              "  </svg>\n",
              "      </button>\n",
              "      \n",
              "  <style>\n",
              "    .colab-df-container {\n",
              "      display:flex;\n",
              "      flex-wrap:wrap;\n",
              "      gap: 12px;\n",
              "    }\n",
              "\n",
              "    .colab-df-convert {\n",
              "      background-color: #E8F0FE;\n",
              "      border: none;\n",
              "      border-radius: 50%;\n",
              "      cursor: pointer;\n",
              "      display: none;\n",
              "      fill: #1967D2;\n",
              "      height: 32px;\n",
              "      padding: 0 0 0 0;\n",
              "      width: 32px;\n",
              "    }\n",
              "\n",
              "    .colab-df-convert:hover {\n",
              "      background-color: #E2EBFA;\n",
              "      box-shadow: 0px 1px 2px rgba(60, 64, 67, 0.3), 0px 1px 3px 1px rgba(60, 64, 67, 0.15);\n",
              "      fill: #174EA6;\n",
              "    }\n",
              "\n",
              "    [theme=dark] .colab-df-convert {\n",
              "      background-color: #3B4455;\n",
              "      fill: #D2E3FC;\n",
              "    }\n",
              "\n",
              "    [theme=dark] .colab-df-convert:hover {\n",
              "      background-color: #434B5C;\n",
              "      box-shadow: 0px 1px 3px 1px rgba(0, 0, 0, 0.15);\n",
              "      filter: drop-shadow(0px 1px 2px rgba(0, 0, 0, 0.3));\n",
              "      fill: #FFFFFF;\n",
              "    }\n",
              "  </style>\n",
              "\n",
              "      <script>\n",
              "        const buttonEl =\n",
              "          document.querySelector('#df-d4203093-22fb-4cd0-924a-669b9cc78bbd button.colab-df-convert');\n",
              "        buttonEl.style.display =\n",
              "          google.colab.kernel.accessAllowed ? 'block' : 'none';\n",
              "\n",
              "        async function convertToInteractive(key) {\n",
              "          const element = document.querySelector('#df-d4203093-22fb-4cd0-924a-669b9cc78bbd');\n",
              "          const dataTable =\n",
              "            await google.colab.kernel.invokeFunction('convertToInteractive',\n",
              "                                                     [key], {});\n",
              "          if (!dataTable) return;\n",
              "\n",
              "          const docLinkHtml = 'Like what you see? Visit the ' +\n",
              "            '<a target=\"_blank\" href=https://colab.research.google.com/notebooks/data_table.ipynb>data table notebook</a>'\n",
              "            + ' to learn more about interactive tables.';\n",
              "          element.innerHTML = '';\n",
              "          dataTable['output_type'] = 'display_data';\n",
              "          await google.colab.output.renderOutput(dataTable, element);\n",
              "          const docLink = document.createElement('div');\n",
              "          docLink.innerHTML = docLinkHtml;\n",
              "          element.appendChild(docLink);\n",
              "        }\n",
              "      </script>\n",
              "    </div>\n",
              "  </div>\n",
              "  "
            ]
          },
          "metadata": {},
          "execution_count": 147
        }
      ],
      "source": [
        "# Join with the df2 dataframe\n",
        "final_data = new_data.set_index(\"user_id\").join(data.set_index(\"user_id\"),how=\"inner\")\n",
        "final_data.head()"
      ]
    },
    {
      "cell_type": "code",
      "execution_count": 148,
      "metadata": {
        "colab": {
          "base_uri": "https://localhost:8080/",
          "height": 237
        },
        "id": "O9zKbwph1rHM",
        "outputId": "69bdc00f-241e-40a7-ce2f-b256d7baf8a4"
      },
      "outputs": [
        {
          "output_type": "execute_result",
          "data": {
            "text/plain": [
              "        country                   timestamp      group landing_page  \\\n",
              "user_id                                                               \n",
              "834778       UK  2017-01-14 23:08:43.304998    control     old_page   \n",
              "928468       US  2017-01-23 14:44:16.387854  treatment     new_page   \n",
              "822059       UK  2017-01-16 14:04:14.719771  treatment     new_page   \n",
              "711597       UK  2017-01-22 03:14:24.763511    control     old_page   \n",
              "710616       UK  2017-01-16 13:14:44.000513  treatment     new_page   \n",
              "\n",
              "         converted  intercept  control  ab_page  CA  UK  US  \n",
              "user_id                                                      \n",
              "834778           0          1        1        0   0   1   0  \n",
              "928468           0          1        0        1   0   0   1  \n",
              "822059           1          1        0        1   0   1   0  \n",
              "711597           0          1        1        0   0   1   0  \n",
              "710616           0          1        0        1   0   1   0  "
            ],
            "text/html": [
              "\n",
              "  <div id=\"df-49d5414d-dc41-4895-af5f-bc50308a8f29\">\n",
              "    <div class=\"colab-df-container\">\n",
              "      <div>\n",
              "<style scoped>\n",
              "    .dataframe tbody tr th:only-of-type {\n",
              "        vertical-align: middle;\n",
              "    }\n",
              "\n",
              "    .dataframe tbody tr th {\n",
              "        vertical-align: top;\n",
              "    }\n",
              "\n",
              "    .dataframe thead th {\n",
              "        text-align: right;\n",
              "    }\n",
              "</style>\n",
              "<table border=\"1\" class=\"dataframe\">\n",
              "  <thead>\n",
              "    <tr style=\"text-align: right;\">\n",
              "      <th></th>\n",
              "      <th>country</th>\n",
              "      <th>timestamp</th>\n",
              "      <th>group</th>\n",
              "      <th>landing_page</th>\n",
              "      <th>converted</th>\n",
              "      <th>intercept</th>\n",
              "      <th>control</th>\n",
              "      <th>ab_page</th>\n",
              "      <th>CA</th>\n",
              "      <th>UK</th>\n",
              "      <th>US</th>\n",
              "    </tr>\n",
              "    <tr>\n",
              "      <th>user_id</th>\n",
              "      <th></th>\n",
              "      <th></th>\n",
              "      <th></th>\n",
              "      <th></th>\n",
              "      <th></th>\n",
              "      <th></th>\n",
              "      <th></th>\n",
              "      <th></th>\n",
              "      <th></th>\n",
              "      <th></th>\n",
              "      <th></th>\n",
              "    </tr>\n",
              "  </thead>\n",
              "  <tbody>\n",
              "    <tr>\n",
              "      <th>834778</th>\n",
              "      <td>UK</td>\n",
              "      <td>2017-01-14 23:08:43.304998</td>\n",
              "      <td>control</td>\n",
              "      <td>old_page</td>\n",
              "      <td>0</td>\n",
              "      <td>1</td>\n",
              "      <td>1</td>\n",
              "      <td>0</td>\n",
              "      <td>0</td>\n",
              "      <td>1</td>\n",
              "      <td>0</td>\n",
              "    </tr>\n",
              "    <tr>\n",
              "      <th>928468</th>\n",
              "      <td>US</td>\n",
              "      <td>2017-01-23 14:44:16.387854</td>\n",
              "      <td>treatment</td>\n",
              "      <td>new_page</td>\n",
              "      <td>0</td>\n",
              "      <td>1</td>\n",
              "      <td>0</td>\n",
              "      <td>1</td>\n",
              "      <td>0</td>\n",
              "      <td>0</td>\n",
              "      <td>1</td>\n",
              "    </tr>\n",
              "    <tr>\n",
              "      <th>822059</th>\n",
              "      <td>UK</td>\n",
              "      <td>2017-01-16 14:04:14.719771</td>\n",
              "      <td>treatment</td>\n",
              "      <td>new_page</td>\n",
              "      <td>1</td>\n",
              "      <td>1</td>\n",
              "      <td>0</td>\n",
              "      <td>1</td>\n",
              "      <td>0</td>\n",
              "      <td>1</td>\n",
              "      <td>0</td>\n",
              "    </tr>\n",
              "    <tr>\n",
              "      <th>711597</th>\n",
              "      <td>UK</td>\n",
              "      <td>2017-01-22 03:14:24.763511</td>\n",
              "      <td>control</td>\n",
              "      <td>old_page</td>\n",
              "      <td>0</td>\n",
              "      <td>1</td>\n",
              "      <td>1</td>\n",
              "      <td>0</td>\n",
              "      <td>0</td>\n",
              "      <td>1</td>\n",
              "      <td>0</td>\n",
              "    </tr>\n",
              "    <tr>\n",
              "      <th>710616</th>\n",
              "      <td>UK</td>\n",
              "      <td>2017-01-16 13:14:44.000513</td>\n",
              "      <td>treatment</td>\n",
              "      <td>new_page</td>\n",
              "      <td>0</td>\n",
              "      <td>1</td>\n",
              "      <td>0</td>\n",
              "      <td>1</td>\n",
              "      <td>0</td>\n",
              "      <td>1</td>\n",
              "      <td>0</td>\n",
              "    </tr>\n",
              "  </tbody>\n",
              "</table>\n",
              "</div>\n",
              "      <button class=\"colab-df-convert\" onclick=\"convertToInteractive('df-49d5414d-dc41-4895-af5f-bc50308a8f29')\"\n",
              "              title=\"Convert this dataframe to an interactive table.\"\n",
              "              style=\"display:none;\">\n",
              "        \n",
              "  <svg xmlns=\"http://www.w3.org/2000/svg\" height=\"24px\"viewBox=\"0 0 24 24\"\n",
              "       width=\"24px\">\n",
              "    <path d=\"M0 0h24v24H0V0z\" fill=\"none\"/>\n",
              "    <path d=\"M18.56 5.44l.94 2.06.94-2.06 2.06-.94-2.06-.94-.94-2.06-.94 2.06-2.06.94zm-11 1L8.5 8.5l.94-2.06 2.06-.94-2.06-.94L8.5 2.5l-.94 2.06-2.06.94zm10 10l.94 2.06.94-2.06 2.06-.94-2.06-.94-.94-2.06-.94 2.06-2.06.94z\"/><path d=\"M17.41 7.96l-1.37-1.37c-.4-.4-.92-.59-1.43-.59-.52 0-1.04.2-1.43.59L10.3 9.45l-7.72 7.72c-.78.78-.78 2.05 0 2.83L4 21.41c.39.39.9.59 1.41.59.51 0 1.02-.2 1.41-.59l7.78-7.78 2.81-2.81c.8-.78.8-2.07 0-2.86zM5.41 20L4 18.59l7.72-7.72 1.47 1.35L5.41 20z\"/>\n",
              "  </svg>\n",
              "      </button>\n",
              "      \n",
              "  <style>\n",
              "    .colab-df-container {\n",
              "      display:flex;\n",
              "      flex-wrap:wrap;\n",
              "      gap: 12px;\n",
              "    }\n",
              "\n",
              "    .colab-df-convert {\n",
              "      background-color: #E8F0FE;\n",
              "      border: none;\n",
              "      border-radius: 50%;\n",
              "      cursor: pointer;\n",
              "      display: none;\n",
              "      fill: #1967D2;\n",
              "      height: 32px;\n",
              "      padding: 0 0 0 0;\n",
              "      width: 32px;\n",
              "    }\n",
              "\n",
              "    .colab-df-convert:hover {\n",
              "      background-color: #E2EBFA;\n",
              "      box-shadow: 0px 1px 2px rgba(60, 64, 67, 0.3), 0px 1px 3px 1px rgba(60, 64, 67, 0.15);\n",
              "      fill: #174EA6;\n",
              "    }\n",
              "\n",
              "    [theme=dark] .colab-df-convert {\n",
              "      background-color: #3B4455;\n",
              "      fill: #D2E3FC;\n",
              "    }\n",
              "\n",
              "    [theme=dark] .colab-df-convert:hover {\n",
              "      background-color: #434B5C;\n",
              "      box-shadow: 0px 1px 3px 1px rgba(0, 0, 0, 0.15);\n",
              "      filter: drop-shadow(0px 1px 2px rgba(0, 0, 0, 0.3));\n",
              "      fill: #FFFFFF;\n",
              "    }\n",
              "  </style>\n",
              "\n",
              "      <script>\n",
              "        const buttonEl =\n",
              "          document.querySelector('#df-49d5414d-dc41-4895-af5f-bc50308a8f29 button.colab-df-convert');\n",
              "        buttonEl.style.display =\n",
              "          google.colab.kernel.accessAllowed ? 'block' : 'none';\n",
              "\n",
              "        async function convertToInteractive(key) {\n",
              "          const element = document.querySelector('#df-49d5414d-dc41-4895-af5f-bc50308a8f29');\n",
              "          const dataTable =\n",
              "            await google.colab.kernel.invokeFunction('convertToInteractive',\n",
              "                                                     [key], {});\n",
              "          if (!dataTable) return;\n",
              "\n",
              "          const docLinkHtml = 'Like what you see? Visit the ' +\n",
              "            '<a target=\"_blank\" href=https://colab.research.google.com/notebooks/data_table.ipynb>data table notebook</a>'\n",
              "            + ' to learn more about interactive tables.';\n",
              "          element.innerHTML = '';\n",
              "          dataTable['output_type'] = 'display_data';\n",
              "          await google.colab.output.renderOutput(dataTable, element);\n",
              "          const docLink = document.createElement('div');\n",
              "          docLink.innerHTML = docLinkHtml;\n",
              "          element.appendChild(docLink);\n",
              "        }\n",
              "      </script>\n",
              "    </div>\n",
              "  </div>\n",
              "  "
            ]
          },
          "metadata": {},
          "execution_count": 148
        }
      ],
      "source": [
        "# Create the necessary dummy variables\n",
        "final_data = final_data.join(pd.get_dummies(final_data[\"country\"]))\n",
        "final_data.head()"
      ]
    },
    {
      "cell_type": "code",
      "execution_count": 149,
      "metadata": {
        "collapsed": true,
        "colab": {
          "base_uri": "https://localhost:8080/",
          "height": 341
        },
        "id": "EntLEKsC1rHM",
        "outputId": "d4419499-c535-4aa7-a130-b7f0e8a781de"
      },
      "outputs": [
        {
          "output_type": "stream",
          "name": "stdout",
          "text": [
            "Optimization terminated successfully.\n",
            "         Current function value: 0.366113\n",
            "         Iterations 6\n"
          ]
        },
        {
          "output_type": "execute_result",
          "data": {
            "text/plain": [
              "<class 'statsmodels.iolib.summary.Summary'>\n",
              "\"\"\"\n",
              "                           Logit Regression Results                           \n",
              "==============================================================================\n",
              "Dep. Variable:              converted   No. Observations:               290584\n",
              "Model:                          Logit   Df Residuals:                   290580\n",
              "Method:                           MLE   Df Model:                            3\n",
              "Date:                Sat, 31 Dec 2022   Pseudo R-squ.:               2.323e-05\n",
              "Time:                        00:57:39   Log-Likelihood:            -1.0639e+05\n",
              "converged:                       True   LL-Null:                   -1.0639e+05\n",
              "Covariance Type:            nonrobust   LLR p-value:                    0.1760\n",
              "==============================================================================\n",
              "                 coef    std err          z      P>|z|      [0.025      0.975]\n",
              "------------------------------------------------------------------------------\n",
              "intercept     -1.9893      0.009   -223.763      0.000      -2.007      -1.972\n",
              "ab_page       -0.0149      0.011     -1.307      0.191      -0.037       0.007\n",
              "CA            -0.0408      0.027     -1.516      0.130      -0.093       0.012\n",
              "UK             0.0099      0.013      0.743      0.457      -0.016       0.036\n",
              "==============================================================================\n",
              "\"\"\""
            ],
            "text/html": [
              "<table class=\"simpletable\">\n",
              "<caption>Logit Regression Results</caption>\n",
              "<tr>\n",
              "  <th>Dep. Variable:</th>       <td>converted</td>    <th>  No. Observations:  </th>   <td>290584</td>   \n",
              "</tr>\n",
              "<tr>\n",
              "  <th>Model:</th>                 <td>Logit</td>      <th>  Df Residuals:      </th>   <td>290580</td>   \n",
              "</tr>\n",
              "<tr>\n",
              "  <th>Method:</th>                 <td>MLE</td>       <th>  Df Model:          </th>   <td>     3</td>   \n",
              "</tr>\n",
              "<tr>\n",
              "  <th>Date:</th>            <td>Sat, 31 Dec 2022</td> <th>  Pseudo R-squ.:     </th>  <td>2.323e-05</td> \n",
              "</tr>\n",
              "<tr>\n",
              "  <th>Time:</th>                <td>00:57:39</td>     <th>  Log-Likelihood:    </th> <td>-1.0639e+05</td>\n",
              "</tr>\n",
              "<tr>\n",
              "  <th>converged:</th>             <td>True</td>       <th>  LL-Null:           </th> <td>-1.0639e+05</td>\n",
              "</tr>\n",
              "<tr>\n",
              "  <th>Covariance Type:</th>     <td>nonrobust</td>    <th>  LLR p-value:       </th>   <td>0.1760</td>   \n",
              "</tr>\n",
              "</table>\n",
              "<table class=\"simpletable\">\n",
              "<tr>\n",
              "      <td></td>         <th>coef</th>     <th>std err</th>      <th>z</th>      <th>P>|z|</th>  <th>[0.025</th>    <th>0.975]</th>  \n",
              "</tr>\n",
              "<tr>\n",
              "  <th>intercept</th> <td>   -1.9893</td> <td>    0.009</td> <td> -223.763</td> <td> 0.000</td> <td>   -2.007</td> <td>   -1.972</td>\n",
              "</tr>\n",
              "<tr>\n",
              "  <th>ab_page</th>   <td>   -0.0149</td> <td>    0.011</td> <td>   -1.307</td> <td> 0.191</td> <td>   -0.037</td> <td>    0.007</td>\n",
              "</tr>\n",
              "<tr>\n",
              "  <th>CA</th>        <td>   -0.0408</td> <td>    0.027</td> <td>   -1.516</td> <td> 0.130</td> <td>   -0.093</td> <td>    0.012</td>\n",
              "</tr>\n",
              "<tr>\n",
              "  <th>UK</th>        <td>    0.0099</td> <td>    0.013</td> <td>    0.743</td> <td> 0.457</td> <td>   -0.016</td> <td>    0.036</td>\n",
              "</tr>\n",
              "</table>"
            ]
          },
          "metadata": {},
          "execution_count": 149
        }
      ],
      "source": [
        "# Fit your model, and summarize the results\n",
        "model = sm.Logit(final_data[\"converted\"],\n",
        "                 final_data[[\"intercept\", \"ab_page\",\"CA\",\"UK\"]])\n",
        "\n",
        "final_res = model.fit()\n",
        "final_res.summary()\n"
      ]
    },
    {
      "cell_type": "markdown",
      "source": [
        "Based on the country factors P_values we conclude that these don't have large impact on the conversion rate\n"
      ],
      "metadata": {
        "id": "U6kt8t4Rl6Z8"
      }
    },
    {
      "cell_type": "markdown",
      "metadata": {
        "id": "X1Y4FySY1rHM"
      },
      "source": [
        "**h. Fit your model and obtain the results**<br> \n",
        "Though you have now looked at the individual factors of country and page on conversion, we would now like to look at an interaction between page and country to see if are there significant effects on conversion.  **Create the necessary additional columns, and fit the new model.** \n",
        "\n",
        "\n",
        "Provide the summary results (statistical output), and your conclusions (written response) based on the results. \n",
        "\n",
        ">**Tip**: Conclusions should include both statistical reasoning, and practical reasoning for the situation. \n",
        "\n",
        ">**Hints**: \n",
        "- Look at all of p-values in the summary, and compare against the Type I error rate (0.05). \n",
        "- Can you reject/fail to reject the null hypotheses (regression model)?\n",
        "- Comment on the effect of page and country to predict the conversion.\n"
      ]
    },
    {
      "cell_type": "code",
      "source": [
        "final_data['CA_ab']=final_data['CA']*final_data['ab_page']\n",
        "final_data['UK_ab']=final_data['UK']*final_data['ab_page']\n",
        "final_data.head()"
      ],
      "metadata": {
        "colab": {
          "base_uri": "https://localhost:8080/",
          "height": 237
        },
        "id": "Kq8chKmkew_c",
        "outputId": "a723f295-2db7-4fbb-a89b-f3e2cb7a8932"
      },
      "execution_count": 150,
      "outputs": [
        {
          "output_type": "execute_result",
          "data": {
            "text/plain": [
              "        country                   timestamp      group landing_page  \\\n",
              "user_id                                                               \n",
              "834778       UK  2017-01-14 23:08:43.304998    control     old_page   \n",
              "928468       US  2017-01-23 14:44:16.387854  treatment     new_page   \n",
              "822059       UK  2017-01-16 14:04:14.719771  treatment     new_page   \n",
              "711597       UK  2017-01-22 03:14:24.763511    control     old_page   \n",
              "710616       UK  2017-01-16 13:14:44.000513  treatment     new_page   \n",
              "\n",
              "         converted  intercept  control  ab_page  CA  UK  US  CA_ab  UK_ab  \n",
              "user_id                                                                    \n",
              "834778           0          1        1        0   0   1   0      0      0  \n",
              "928468           0          1        0        1   0   0   1      0      0  \n",
              "822059           1          1        0        1   0   1   0      0      1  \n",
              "711597           0          1        1        0   0   1   0      0      0  \n",
              "710616           0          1        0        1   0   1   0      0      1  "
            ],
            "text/html": [
              "\n",
              "  <div id=\"df-a34b2322-bac9-4a0a-adc9-38156dce79f1\">\n",
              "    <div class=\"colab-df-container\">\n",
              "      <div>\n",
              "<style scoped>\n",
              "    .dataframe tbody tr th:only-of-type {\n",
              "        vertical-align: middle;\n",
              "    }\n",
              "\n",
              "    .dataframe tbody tr th {\n",
              "        vertical-align: top;\n",
              "    }\n",
              "\n",
              "    .dataframe thead th {\n",
              "        text-align: right;\n",
              "    }\n",
              "</style>\n",
              "<table border=\"1\" class=\"dataframe\">\n",
              "  <thead>\n",
              "    <tr style=\"text-align: right;\">\n",
              "      <th></th>\n",
              "      <th>country</th>\n",
              "      <th>timestamp</th>\n",
              "      <th>group</th>\n",
              "      <th>landing_page</th>\n",
              "      <th>converted</th>\n",
              "      <th>intercept</th>\n",
              "      <th>control</th>\n",
              "      <th>ab_page</th>\n",
              "      <th>CA</th>\n",
              "      <th>UK</th>\n",
              "      <th>US</th>\n",
              "      <th>CA_ab</th>\n",
              "      <th>UK_ab</th>\n",
              "    </tr>\n",
              "    <tr>\n",
              "      <th>user_id</th>\n",
              "      <th></th>\n",
              "      <th></th>\n",
              "      <th></th>\n",
              "      <th></th>\n",
              "      <th></th>\n",
              "      <th></th>\n",
              "      <th></th>\n",
              "      <th></th>\n",
              "      <th></th>\n",
              "      <th></th>\n",
              "      <th></th>\n",
              "      <th></th>\n",
              "      <th></th>\n",
              "    </tr>\n",
              "  </thead>\n",
              "  <tbody>\n",
              "    <tr>\n",
              "      <th>834778</th>\n",
              "      <td>UK</td>\n",
              "      <td>2017-01-14 23:08:43.304998</td>\n",
              "      <td>control</td>\n",
              "      <td>old_page</td>\n",
              "      <td>0</td>\n",
              "      <td>1</td>\n",
              "      <td>1</td>\n",
              "      <td>0</td>\n",
              "      <td>0</td>\n",
              "      <td>1</td>\n",
              "      <td>0</td>\n",
              "      <td>0</td>\n",
              "      <td>0</td>\n",
              "    </tr>\n",
              "    <tr>\n",
              "      <th>928468</th>\n",
              "      <td>US</td>\n",
              "      <td>2017-01-23 14:44:16.387854</td>\n",
              "      <td>treatment</td>\n",
              "      <td>new_page</td>\n",
              "      <td>0</td>\n",
              "      <td>1</td>\n",
              "      <td>0</td>\n",
              "      <td>1</td>\n",
              "      <td>0</td>\n",
              "      <td>0</td>\n",
              "      <td>1</td>\n",
              "      <td>0</td>\n",
              "      <td>0</td>\n",
              "    </tr>\n",
              "    <tr>\n",
              "      <th>822059</th>\n",
              "      <td>UK</td>\n",
              "      <td>2017-01-16 14:04:14.719771</td>\n",
              "      <td>treatment</td>\n",
              "      <td>new_page</td>\n",
              "      <td>1</td>\n",
              "      <td>1</td>\n",
              "      <td>0</td>\n",
              "      <td>1</td>\n",
              "      <td>0</td>\n",
              "      <td>1</td>\n",
              "      <td>0</td>\n",
              "      <td>0</td>\n",
              "      <td>1</td>\n",
              "    </tr>\n",
              "    <tr>\n",
              "      <th>711597</th>\n",
              "      <td>UK</td>\n",
              "      <td>2017-01-22 03:14:24.763511</td>\n",
              "      <td>control</td>\n",
              "      <td>old_page</td>\n",
              "      <td>0</td>\n",
              "      <td>1</td>\n",
              "      <td>1</td>\n",
              "      <td>0</td>\n",
              "      <td>0</td>\n",
              "      <td>1</td>\n",
              "      <td>0</td>\n",
              "      <td>0</td>\n",
              "      <td>0</td>\n",
              "    </tr>\n",
              "    <tr>\n",
              "      <th>710616</th>\n",
              "      <td>UK</td>\n",
              "      <td>2017-01-16 13:14:44.000513</td>\n",
              "      <td>treatment</td>\n",
              "      <td>new_page</td>\n",
              "      <td>0</td>\n",
              "      <td>1</td>\n",
              "      <td>0</td>\n",
              "      <td>1</td>\n",
              "      <td>0</td>\n",
              "      <td>1</td>\n",
              "      <td>0</td>\n",
              "      <td>0</td>\n",
              "      <td>1</td>\n",
              "    </tr>\n",
              "  </tbody>\n",
              "</table>\n",
              "</div>\n",
              "      <button class=\"colab-df-convert\" onclick=\"convertToInteractive('df-a34b2322-bac9-4a0a-adc9-38156dce79f1')\"\n",
              "              title=\"Convert this dataframe to an interactive table.\"\n",
              "              style=\"display:none;\">\n",
              "        \n",
              "  <svg xmlns=\"http://www.w3.org/2000/svg\" height=\"24px\"viewBox=\"0 0 24 24\"\n",
              "       width=\"24px\">\n",
              "    <path d=\"M0 0h24v24H0V0z\" fill=\"none\"/>\n",
              "    <path d=\"M18.56 5.44l.94 2.06.94-2.06 2.06-.94-2.06-.94-.94-2.06-.94 2.06-2.06.94zm-11 1L8.5 8.5l.94-2.06 2.06-.94-2.06-.94L8.5 2.5l-.94 2.06-2.06.94zm10 10l.94 2.06.94-2.06 2.06-.94-2.06-.94-.94-2.06-.94 2.06-2.06.94z\"/><path d=\"M17.41 7.96l-1.37-1.37c-.4-.4-.92-.59-1.43-.59-.52 0-1.04.2-1.43.59L10.3 9.45l-7.72 7.72c-.78.78-.78 2.05 0 2.83L4 21.41c.39.39.9.59 1.41.59.51 0 1.02-.2 1.41-.59l7.78-7.78 2.81-2.81c.8-.78.8-2.07 0-2.86zM5.41 20L4 18.59l7.72-7.72 1.47 1.35L5.41 20z\"/>\n",
              "  </svg>\n",
              "      </button>\n",
              "      \n",
              "  <style>\n",
              "    .colab-df-container {\n",
              "      display:flex;\n",
              "      flex-wrap:wrap;\n",
              "      gap: 12px;\n",
              "    }\n",
              "\n",
              "    .colab-df-convert {\n",
              "      background-color: #E8F0FE;\n",
              "      border: none;\n",
              "      border-radius: 50%;\n",
              "      cursor: pointer;\n",
              "      display: none;\n",
              "      fill: #1967D2;\n",
              "      height: 32px;\n",
              "      padding: 0 0 0 0;\n",
              "      width: 32px;\n",
              "    }\n",
              "\n",
              "    .colab-df-convert:hover {\n",
              "      background-color: #E2EBFA;\n",
              "      box-shadow: 0px 1px 2px rgba(60, 64, 67, 0.3), 0px 1px 3px 1px rgba(60, 64, 67, 0.15);\n",
              "      fill: #174EA6;\n",
              "    }\n",
              "\n",
              "    [theme=dark] .colab-df-convert {\n",
              "      background-color: #3B4455;\n",
              "      fill: #D2E3FC;\n",
              "    }\n",
              "\n",
              "    [theme=dark] .colab-df-convert:hover {\n",
              "      background-color: #434B5C;\n",
              "      box-shadow: 0px 1px 3px 1px rgba(0, 0, 0, 0.15);\n",
              "      filter: drop-shadow(0px 1px 2px rgba(0, 0, 0, 0.3));\n",
              "      fill: #FFFFFF;\n",
              "    }\n",
              "  </style>\n",
              "\n",
              "      <script>\n",
              "        const buttonEl =\n",
              "          document.querySelector('#df-a34b2322-bac9-4a0a-adc9-38156dce79f1 button.colab-df-convert');\n",
              "        buttonEl.style.display =\n",
              "          google.colab.kernel.accessAllowed ? 'block' : 'none';\n",
              "\n",
              "        async function convertToInteractive(key) {\n",
              "          const element = document.querySelector('#df-a34b2322-bac9-4a0a-adc9-38156dce79f1');\n",
              "          const dataTable =\n",
              "            await google.colab.kernel.invokeFunction('convertToInteractive',\n",
              "                                                     [key], {});\n",
              "          if (!dataTable) return;\n",
              "\n",
              "          const docLinkHtml = 'Like what you see? Visit the ' +\n",
              "            '<a target=\"_blank\" href=https://colab.research.google.com/notebooks/data_table.ipynb>data table notebook</a>'\n",
              "            + ' to learn more about interactive tables.';\n",
              "          element.innerHTML = '';\n",
              "          dataTable['output_type'] = 'display_data';\n",
              "          await google.colab.output.renderOutput(dataTable, element);\n",
              "          const docLink = document.createElement('div');\n",
              "          docLink.innerHTML = docLinkHtml;\n",
              "          element.appendChild(docLink);\n",
              "        }\n",
              "      </script>\n",
              "    </div>\n",
              "  </div>\n",
              "  "
            ]
          },
          "metadata": {},
          "execution_count": 150
        }
      ]
    },
    {
      "cell_type": "code",
      "execution_count": 151,
      "metadata": {
        "collapsed": true,
        "colab": {
          "base_uri": "https://localhost:8080/",
          "height": 383
        },
        "outputId": "ca76f925-781b-4833-8c67-65b12f1a9559",
        "id": "XvesWBDAil5c"
      },
      "outputs": [
        {
          "output_type": "stream",
          "name": "stdout",
          "text": [
            "Optimization terminated successfully.\n",
            "         Current function value: 0.366109\n",
            "         Iterations 6\n"
          ]
        },
        {
          "output_type": "execute_result",
          "data": {
            "text/plain": [
              "<class 'statsmodels.iolib.summary.Summary'>\n",
              "\"\"\"\n",
              "                           Logit Regression Results                           \n",
              "==============================================================================\n",
              "Dep. Variable:              converted   No. Observations:               290584\n",
              "Model:                          Logit   Df Residuals:                   290578\n",
              "Method:                           MLE   Df Model:                            5\n",
              "Date:                Sat, 31 Dec 2022   Pseudo R-squ.:               3.482e-05\n",
              "Time:                        00:57:41   Log-Likelihood:            -1.0639e+05\n",
              "converged:                       True   LL-Null:                   -1.0639e+05\n",
              "Covariance Type:            nonrobust   LLR p-value:                    0.1920\n",
              "==============================================================================\n",
              "                 coef    std err          z      P>|z|      [0.025      0.975]\n",
              "------------------------------------------------------------------------------\n",
              "intercept     -1.9865      0.010   -206.344      0.000      -2.005      -1.968\n",
              "ab_page       -0.0206      0.014     -1.505      0.132      -0.047       0.006\n",
              "CA            -0.0175      0.038     -0.465      0.642      -0.091       0.056\n",
              "UK            -0.0057      0.019     -0.306      0.760      -0.043       0.031\n",
              "CA_ab         -0.0469      0.054     -0.872      0.383      -0.152       0.059\n",
              "UK_ab          0.0314      0.027      1.181      0.238      -0.021       0.084\n",
              "==============================================================================\n",
              "\"\"\""
            ],
            "text/html": [
              "<table class=\"simpletable\">\n",
              "<caption>Logit Regression Results</caption>\n",
              "<tr>\n",
              "  <th>Dep. Variable:</th>       <td>converted</td>    <th>  No. Observations:  </th>   <td>290584</td>   \n",
              "</tr>\n",
              "<tr>\n",
              "  <th>Model:</th>                 <td>Logit</td>      <th>  Df Residuals:      </th>   <td>290578</td>   \n",
              "</tr>\n",
              "<tr>\n",
              "  <th>Method:</th>                 <td>MLE</td>       <th>  Df Model:          </th>   <td>     5</td>   \n",
              "</tr>\n",
              "<tr>\n",
              "  <th>Date:</th>            <td>Sat, 31 Dec 2022</td> <th>  Pseudo R-squ.:     </th>  <td>3.482e-05</td> \n",
              "</tr>\n",
              "<tr>\n",
              "  <th>Time:</th>                <td>00:57:41</td>     <th>  Log-Likelihood:    </th> <td>-1.0639e+05</td>\n",
              "</tr>\n",
              "<tr>\n",
              "  <th>converged:</th>             <td>True</td>       <th>  LL-Null:           </th> <td>-1.0639e+05</td>\n",
              "</tr>\n",
              "<tr>\n",
              "  <th>Covariance Type:</th>     <td>nonrobust</td>    <th>  LLR p-value:       </th>   <td>0.1920</td>   \n",
              "</tr>\n",
              "</table>\n",
              "<table class=\"simpletable\">\n",
              "<tr>\n",
              "      <td></td>         <th>coef</th>     <th>std err</th>      <th>z</th>      <th>P>|z|</th>  <th>[0.025</th>    <th>0.975]</th>  \n",
              "</tr>\n",
              "<tr>\n",
              "  <th>intercept</th> <td>   -1.9865</td> <td>    0.010</td> <td> -206.344</td> <td> 0.000</td> <td>   -2.005</td> <td>   -1.968</td>\n",
              "</tr>\n",
              "<tr>\n",
              "  <th>ab_page</th>   <td>   -0.0206</td> <td>    0.014</td> <td>   -1.505</td> <td> 0.132</td> <td>   -0.047</td> <td>    0.006</td>\n",
              "</tr>\n",
              "<tr>\n",
              "  <th>CA</th>        <td>   -0.0175</td> <td>    0.038</td> <td>   -0.465</td> <td> 0.642</td> <td>   -0.091</td> <td>    0.056</td>\n",
              "</tr>\n",
              "<tr>\n",
              "  <th>UK</th>        <td>   -0.0057</td> <td>    0.019</td> <td>   -0.306</td> <td> 0.760</td> <td>   -0.043</td> <td>    0.031</td>\n",
              "</tr>\n",
              "<tr>\n",
              "  <th>CA_ab</th>     <td>   -0.0469</td> <td>    0.054</td> <td>   -0.872</td> <td> 0.383</td> <td>   -0.152</td> <td>    0.059</td>\n",
              "</tr>\n",
              "<tr>\n",
              "  <th>UK_ab</th>     <td>    0.0314</td> <td>    0.027</td> <td>    1.181</td> <td> 0.238</td> <td>   -0.021</td> <td>    0.084</td>\n",
              "</tr>\n",
              "</table>"
            ]
          },
          "metadata": {},
          "execution_count": 151
        }
      ],
      "source": [
        "# Fit your model, and summarize the results\n",
        "model2 = sm.Logit(final_data[\"converted\"],\n",
        "                 final_data[[\"intercept\", \"ab_page\",\"CA\",\"UK\",\"CA_ab\",\"UK_ab\"]])\n",
        "\n",
        "final_res2 = model2.fit()\n",
        "final_res2.summary()\n"
      ]
    },
    {
      "cell_type": "markdown",
      "source": [
        "Based on results i see \"P_values\" are significant and even decrease ehe signidicance of \"CA\" and \"UK\" columns .we should not include these terms in our model"
      ],
      "metadata": {
        "id": "I8YU-VCEC0X8"
      }
    },
    {
      "cell_type": "markdown",
      "metadata": {
        "id": "U73VU2dK1rHN"
      },
      "source": []
    },
    {
      "cell_type": "markdown",
      "metadata": {
        "id": "mGfHX8nq1rHN"
      },
      "source": [
        "<a id='finalcheck'></a>\n",
        "## Final Check!\n",
        "\n",
        "Congratulations!  You have reached the end of the A/B Test Results project!  You should be very proud of all you have accomplished!\n",
        "\n",
        "> **Tip**: Once you are satisfied with your work here, check over your notebook to make sure that it satisfies all the specifications mentioned in the rubric. You should also probably remove all of the \"Hints\" and \"Tips\" like this one so that the presentation is as polished as possible.\n",
        "\n",
        "\n",
        "<a id='submission'></a>\n",
        "## Submission\n",
        "You may either submit your notebook through the \"SUBMIT PROJECT\" button at the bottom of this workspace, or you may work from your local machine and submit on  the last page of this project lesson.  \n",
        "\n",
        "1. Before you submit your project, you need to create a .html or .pdf version of this notebook in the workspace here. To do that, run the code cell below. If it worked correctly, you should get a return code of 0, and you should see the generated .html file in the workspace directory (click on the orange Jupyter icon in the upper left).\n",
        "\n",
        "\n",
        "2. Alternatively, you can download this report as .html via the **File** > **Download as** submenu, and then manually upload it into the workspace directory by clicking on the orange Jupyter icon in the upper left, then using the Upload button.\n",
        "\n",
        "\n",
        "3. Once you've done this, you can submit your project by clicking on the \"Submit Project\" button in the lower right here. This will create and submit a zip file with this .ipynb doc and the .html or .pdf version you created. Congratulations!"
      ]
    },
    {
      "cell_type": "code",
      "execution_count": 152,
      "metadata": {
        "colab": {
          "base_uri": "https://localhost:8080/"
        },
        "id": "9fOrDEzx1rHN",
        "outputId": "275de294-fbc0-49ef-b302-c2f20c5356c7"
      },
      "outputs": [
        {
          "output_type": "execute_result",
          "data": {
            "text/plain": [
              "255"
            ]
          },
          "metadata": {},
          "execution_count": 152
        }
      ],
      "source": [
        "from subprocess import call\n",
        "call(['python', '-m', 'nbconvert', 'Analyze_ab_test_results_notebook.ipynb'])"
      ]
    }
  ],
  "metadata": {
    "kernelspec": {
      "display_name": "Python 3",
      "language": "python",
      "name": "python3"
    },
    "language_info": {
      "codemirror_mode": {
        "name": "ipython",
        "version": 3
      },
      "file_extension": ".py",
      "mimetype": "text/x-python",
      "name": "python",
      "nbconvert_exporter": "python",
      "pygments_lexer": "ipython3",
      "version": "3.6.3"
    },
    "colab": {
      "provenance": []
    }
  },
  "nbformat": 4,
  "nbformat_minor": 0
}